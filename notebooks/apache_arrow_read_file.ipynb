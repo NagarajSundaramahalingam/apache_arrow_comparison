{
 "cells": [
  {
   "cell_type": "code",
   "execution_count": 1,
   "metadata": {
    "colab": {},
    "colab_type": "code",
    "id": "pqpUwyBo15ce"
   },
   "outputs": [],
   "source": [
    "# Import libraries\n",
    "\n",
    "import pyarrow as pa\n",
    "from pyarrow import csv\n",
    "import pyarrow.parquet as pq\n",
    "\n",
    "import pandas as pd\n",
    "\n",
    "from datetime import datetime\n",
    "\n",
    "import os\n",
    "import sys\n"
   ]
  },
  {
   "cell_type": "code",
   "execution_count": 0,
   "metadata": {
    "colab": {},
    "colab_type": "code",
    "id": "WRRgjul_9Cba"
   },
   "outputs": [],
   "source": [
    "# Execution time function\n",
    "\n",
    "def execution_time(bf, at):\n",
    "    print(f'Before Execution - {bf}')\n",
    "    print(f'After Execution  - {at}')\n",
    "  print(f'Execution time   - {at-bf}')\n",
    "  return at-bf"
   ]
  },
  {
   "cell_type": "code",
   "execution_count": 0,
   "metadata": {
    "colab": {},
    "colab_type": "code",
    "id": "7f0klg8wLBaY"
   },
   "outputs": [],
   "source": [
    "# File location\n",
    "\n",
    "file_dir = '/content/drive/My Drive/GitHub/Apache_Arrow_Basic_Operations/data/'\n",
    "\n",
    "file_loc = f'{file_dir}deliveries_and_matches.csv'"
   ]
  },
  {
   "cell_type": "code",
   "execution_count": 20,
   "metadata": {
    "colab": {
     "base_uri": "https://localhost:8080/",
     "height": 102
    },
    "colab_type": "code",
    "executionInfo": {
     "elapsed": 1590,
     "status": "ok",
     "timestamp": 1587744781348,
     "user": {
      "displayName": "Nagaraj S",
      "photoUrl": "https://lh4.googleusercontent.com/-v7bKfyWhG4Y/AAAAAAAAAAI/AAAAAAAAAE4/NEW7mM5ZA_s/s64/photo.jpg",
      "userId": "10770815748068426622"
     },
     "user_tz": -330
    },
    "id": "6mj-wM878UUa",
    "outputId": "fc624dff-227b-4dc2-9da0-791efdd2c2f9"
   },
   "outputs": [
    {
     "name": "stdout",
     "output_type": "stream",
     "text": [
      "Before Execution - 2020-04-24 16:13:00.067087\n",
      "After Execution  - 2020-04-24 16:13:00.773049\n",
      "Execution time   - 0:00:00.705962\n"
     ]
    },
    {
     "name": "stderr",
     "output_type": "stream",
     "text": [
      "/usr/local/lib/python3.6/dist-packages/IPython/core/interactiveshell.py:2718: DtypeWarning: Columns (38) have mixed types.Specify dtype option on import or set low_memory=False.\n",
      "  interactivity=interactivity, compiler=compiler, result=result)\n"
     ]
    }
   ],
   "source": [
    "# Read csv file in pandas\n",
    "\n",
    "bf_time = datetime.now()\n",
    "ipl_df = pd.read_csv(file_loc)\n",
    "at_time = datetime.now()\n",
    "ex_time = execution_time(bf_time, at_time)"
   ]
  },
  {
   "cell_type": "markdown",
   "metadata": {
    "colab_type": "text",
    "id": "WTDGP_bX-eTh"
   },
   "source": [
    "### DtypeWarning\n",
    "\n",
    "This warning is issued when dealing with larger files because the dtype checking happens per chunk read. [Refer](https://pandas.pydata.org/pandas-docs/stable/reference/api/pandas.errors.DtypeWarning.html)\n"
   ]
  },
  {
   "cell_type": "code",
   "execution_count": 22,
   "metadata": {
    "colab": {
     "base_uri": "https://localhost:8080/",
     "height": 34
    },
    "colab_type": "code",
    "executionInfo": {
     "elapsed": 1214,
     "status": "ok",
     "timestamp": 1587745083071,
     "user": {
      "displayName": "Nagaraj S",
      "photoUrl": "https://lh4.googleusercontent.com/-v7bKfyWhG4Y/AAAAAAAAAAI/AAAAAAAAAE4/NEW7mM5ZA_s/s64/photo.jpg",
      "userId": "10770815748068426622"
     },
     "user_tz": -330
    },
    "id": "f13K9diW-dnU",
    "outputId": "e8dadd36-e41c-4ed6-f4d6-770d0281e2df"
   },
   "outputs": [
    {
     "data": {
      "text/plain": [
       "pandas.core.frame.DataFrame"
      ]
     },
     "execution_count": 22,
     "metadata": {
      "tags": []
     },
     "output_type": "execute_result"
    }
   ],
   "source": [
    "# Type of ipl_df - Pandas data frame\n",
    "\n",
    "type(ipl_df)"
   ]
  },
  {
   "cell_type": "code",
   "execution_count": 110,
   "metadata": {
    "colab": {
     "base_uri": "https://localhost:8080/",
     "height": 68
    },
    "colab_type": "code",
    "executionInfo": {
     "elapsed": 831,
     "status": "ok",
     "timestamp": 1587748315118,
     "user": {
      "displayName": "Nagaraj S",
      "photoUrl": "https://lh4.googleusercontent.com/-v7bKfyWhG4Y/AAAAAAAAAAI/AAAAAAAAAE4/NEW7mM5ZA_s/s64/photo.jpg",
      "userId": "10770815748068426622"
     },
     "user_tz": -330
    },
    "id": "yzMg03sv2KLe",
    "outputId": "5b78fceb-41fc-49ce-c9eb-2a40d44c920e"
   },
   "outputs": [
    {
     "name": "stdout",
     "output_type": "stream",
     "text": [
      "Before Execution - 2020-04-24 17:11:54.638370\n",
      "After Execution  - 2020-04-24 17:11:54.923853\n",
      "Execution time   - 0:00:00.285483\n"
     ]
    }
   ],
   "source": [
    "# Read csv file in pyarrow\n",
    "\n",
    "bf_time = datetime.now()\n",
    "ipl_arrow = csv.read_csv(file_loc)\n",
    "at_time = datetime.now()\n",
    "ex_time = execution_time(bf_time, at_time)"
   ]
  },
  {
   "cell_type": "code",
   "execution_count": 25,
   "metadata": {
    "colab": {
     "base_uri": "https://localhost:8080/",
     "height": 34
    },
    "colab_type": "code",
    "executionInfo": {
     "elapsed": 883,
     "status": "ok",
     "timestamp": 1587745154745,
     "user": {
      "displayName": "Nagaraj S",
      "photoUrl": "https://lh4.googleusercontent.com/-v7bKfyWhG4Y/AAAAAAAAAAI/AAAAAAAAAE4/NEW7mM5ZA_s/s64/photo.jpg",
      "userId": "10770815748068426622"
     },
     "user_tz": -330
    },
    "id": "rnG1YRLr23UP",
    "outputId": "bc226422-576b-45c6-eee4-9aec3d26f84b"
   },
   "outputs": [
    {
     "data": {
      "text/plain": [
       "pyarrow.lib.Table"
      ]
     },
     "execution_count": 25,
     "metadata": {
      "tags": []
     },
     "output_type": "execute_result"
    }
   ],
   "source": [
    "# Type of ipl_arrow - Arrow Table\n",
    "\n",
    "type(ipl_arrow)"
   ]
  },
  {
   "cell_type": "code",
   "execution_count": 138,
   "metadata": {
    "colab": {
     "base_uri": "https://localhost:8080/",
     "height": 68
    },
    "colab_type": "code",
    "executionInfo": {
     "elapsed": 1100,
     "status": "ok",
     "timestamp": 1587750141177,
     "user": {
      "displayName": "Nagaraj S",
      "photoUrl": "https://lh4.googleusercontent.com/-v7bKfyWhG4Y/AAAAAAAAAAI/AAAAAAAAAE4/NEW7mM5ZA_s/s64/photo.jpg",
      "userId": "10770815748068426622"
     },
     "user_tz": -330
    },
    "id": "4iKy1WbJ23Xt",
    "outputId": "709a01bd-2cd9-4e04-a045-d64e34eadb75"
   },
   "outputs": [
    {
     "name": "stdout",
     "output_type": "stream",
     "text": [
      "File size in Bytes - 35142635\n",
      "File size in KB - 34318.98\n",
      "File size in MB - 33.51\n"
     ]
    }
   ],
   "source": [
    "# File size\n",
    "\n",
    "print(f'File size in Bytes - {os.path.getsize(file_loc)}')\n",
    "print(f'File size in KB - {os.path.getsize(file_loc)/(1024):.2f}')\n",
    "print(f'File size in MB - {os.path.getsize(file_loc)/(1024*1024):.2f}')"
   ]
  },
  {
   "cell_type": "code",
   "execution_count": 78,
   "metadata": {
    "colab": {
     "base_uri": "https://localhost:8080/",
     "height": 34
    },
    "colab_type": "code",
    "executionInfo": {
     "elapsed": 21942,
     "status": "ok",
     "timestamp": 1587747072788,
     "user": {
      "displayName": "Nagaraj S",
      "photoUrl": "https://lh4.googleusercontent.com/-v7bKfyWhG4Y/AAAAAAAAAAI/AAAAAAAAAE4/NEW7mM5ZA_s/s64/photo.jpg",
      "userId": "10770815748068426622"
     },
     "user_tz": -330
    },
    "id": "SRW9UmxdGOnb",
    "outputId": "7f304a53-9152-46a7-d5b6-c27fd9e92cbe"
   },
   "outputs": [
    {
     "data": {
      "text/plain": [
       "(246863063, 246863039)"
      ]
     },
     "execution_count": 78,
     "metadata": {
      "tags": []
     },
     "output_type": "execute_result"
    }
   ],
   "source": [
    "# System size of data frame\n",
    "\n",
    "sys.getsizeof(ipl_df), ipl_df.__sizeof__()"
   ]
  },
  {
   "cell_type": "code",
   "execution_count": 79,
   "metadata": {
    "colab": {
     "base_uri": "https://localhost:8080/",
     "height": 34
    },
    "colab_type": "code",
    "executionInfo": {
     "elapsed": 1024,
     "status": "ok",
     "timestamp": 1587747076582,
     "user": {
      "displayName": "Nagaraj S",
      "photoUrl": "https://lh4.googleusercontent.com/-v7bKfyWhG4Y/AAAAAAAAAAI/AAAAAAAAAE4/NEW7mM5ZA_s/s64/photo.jpg",
      "userId": "10770815748068426622"
     },
     "user_tz": -330
    },
    "id": "J3hDfRZV_4ES",
    "outputId": "683f1dcf-3ea4-4df5-a343-4ad927f988ab"
   },
   "outputs": [
    {
     "data": {
      "text/plain": [
       "(48, 48)"
      ]
     },
     "execution_count": 79,
     "metadata": {
      "tags": []
     },
     "output_type": "execute_result"
    }
   ],
   "source": [
    "# System size of arrow table\n",
    "\n",
    "sys.getsizeof(ipl_arrow), ipl_arrow.__sizeof__()"
   ]
  },
  {
   "cell_type": "code",
   "execution_count": 81,
   "metadata": {
    "colab": {
     "base_uri": "https://localhost:8080/",
     "height": 799
    },
    "colab_type": "code",
    "executionInfo": {
     "elapsed": 11791,
     "status": "ok",
     "timestamp": 1587747228303,
     "user": {
      "displayName": "Nagaraj S",
      "photoUrl": "https://lh4.googleusercontent.com/-v7bKfyWhG4Y/AAAAAAAAAAI/AAAAAAAAAE4/NEW7mM5ZA_s/s64/photo.jpg",
      "userId": "10770815748068426622"
     },
     "user_tz": -330
    },
    "id": "gYKv1Zb6G6NS",
    "outputId": "8875af00-8d34-47d7-dbb3-cbd31062e6c5"
   },
   "outputs": [
    {
     "name": "stdout",
     "output_type": "stream",
     "text": [
      "<class 'pandas.core.frame.DataFrame'>\n",
      "RangeIndex: 179078 entries, 0 to 179077\n",
      "Data columns (total 39 columns):\n",
      " #   Column            Non-Null Count   Dtype \n",
      "---  ------            --------------   ----- \n",
      " 0   match_id          179078 non-null  int64 \n",
      " 1   inning            179078 non-null  int64 \n",
      " 2   batting_team      179078 non-null  object\n",
      " 3   bowling_team      179078 non-null  object\n",
      " 4   over              179078 non-null  int64 \n",
      " 5   ball              179078 non-null  int64 \n",
      " 6   batsman           179078 non-null  object\n",
      " 7   non_striker       179078 non-null  object\n",
      " 8   bowler            179078 non-null  object\n",
      " 9   is_super_over     179078 non-null  int64 \n",
      " 10  wide_runs         179078 non-null  int64 \n",
      " 11  bye_runs          179078 non-null  int64 \n",
      " 12  legbye_runs       179078 non-null  int64 \n",
      " 13  noball_runs       179078 non-null  int64 \n",
      " 14  penalty_runs      179078 non-null  int64 \n",
      " 15  batsman_runs      179078 non-null  int64 \n",
      " 16  extra_runs        179078 non-null  int64 \n",
      " 17  total_runs        179078 non-null  int64 \n",
      " 18  player_dismissed  8834 non-null    object\n",
      " 19  dismissal_kind    8834 non-null    object\n",
      " 20  fielder           6448 non-null    object\n",
      " 21  id                179078 non-null  int64 \n",
      " 22  season            179078 non-null  int64 \n",
      " 23  city              177378 non-null  object\n",
      " 24  date              179078 non-null  object\n",
      " 25  team1             179078 non-null  object\n",
      " 26  team2             179078 non-null  object\n",
      " 27  toss_winner       179078 non-null  object\n",
      " 28  toss_decision     179078 non-null  object\n",
      " 29  result            179078 non-null  object\n",
      " 30  dl_applied        179078 non-null  int64 \n",
      " 31  winner            178706 non-null  object\n",
      " 32  win_by_runs       179078 non-null  int64 \n",
      " 33  win_by_wickets    179078 non-null  int64 \n",
      " 34  player_of_match   178706 non-null  object\n",
      " 35  venue             179078 non-null  object\n",
      " 36  umpire1           178578 non-null  object\n",
      " 37  umpire2           178578 non-null  object\n",
      " 38  umpire3           28366 non-null   object\n",
      "dtypes: int64(18), object(21)\n",
      "memory usage: 235.4 MB\n"
     ]
    }
   ],
   "source": [
    "# Info of data frame\n",
    "\n",
    "ipl_df.info(memory_usage='deep')"
   ]
  },
  {
   "cell_type": "code",
   "execution_count": 90,
   "metadata": {
    "colab": {
     "base_uri": "https://localhost:8080/",
     "height": 680
    },
    "colab_type": "code",
    "executionInfo": {
     "elapsed": 937,
     "status": "ok",
     "timestamp": 1587747411679,
     "user": {
      "displayName": "Nagaraj S",
      "photoUrl": "https://lh4.googleusercontent.com/-v7bKfyWhG4Y/AAAAAAAAAAI/AAAAAAAAAE4/NEW7mM5ZA_s/s64/photo.jpg",
      "userId": "10770815748068426622"
     },
     "user_tz": -330
    },
    "id": "PyHgHJo2DKUw",
    "outputId": "24a0085e-337a-4baa-c4af-80fd413d87a4"
   },
   "outputs": [
    {
     "data": {
      "text/plain": [
       "match_id: int64\n",
       "inning: int64\n",
       "batting_team: string\n",
       "bowling_team: string\n",
       "over: int64\n",
       "ball: int64\n",
       "batsman: string\n",
       "non_striker: string\n",
       "bowler: string\n",
       "is_super_over: int64\n",
       "wide_runs: int64\n",
       "bye_runs: int64\n",
       "legbye_runs: int64\n",
       "noball_runs: int64\n",
       "penalty_runs: int64\n",
       "batsman_runs: int64\n",
       "extra_runs: int64\n",
       "total_runs: int64\n",
       "player_dismissed: string\n",
       "dismissal_kind: string\n",
       "fielder: string\n",
       "id: int64\n",
       "season: int64\n",
       "city: string\n",
       "date: timestamp[s]\n",
       "team1: string\n",
       "team2: string\n",
       "toss_winner: string\n",
       "toss_decision: string\n",
       "result: string\n",
       "dl_applied: int64\n",
       "winner: string\n",
       "win_by_runs: int64\n",
       "win_by_wickets: int64\n",
       "player_of_match: string\n",
       "venue: string\n",
       "umpire1: string\n",
       "umpire2: string\n",
       "umpire3: string"
      ]
     },
     "execution_count": 90,
     "metadata": {
      "tags": []
     },
     "output_type": "execute_result"
    }
   ],
   "source": [
    "# Schema of arrow table\n",
    "\n",
    "ipl_arrow.schema"
   ]
  },
  {
   "cell_type": "code",
   "execution_count": 101,
   "metadata": {
    "colab": {
     "base_uri": "https://localhost:8080/",
     "height": 34
    },
    "colab_type": "code",
    "executionInfo": {
     "elapsed": 1022,
     "status": "ok",
     "timestamp": 1587747896353,
     "user": {
      "displayName": "Nagaraj S",
      "photoUrl": "https://lh4.googleusercontent.com/-v7bKfyWhG4Y/AAAAAAAAAAI/AAAAAAAAAE4/NEW7mM5ZA_s/s64/photo.jpg",
      "userId": "10770815748068426622"
     },
     "user_tz": -330
    },
    "id": "CBneF8eYDKq8",
    "outputId": "49876152-04b0-4da9-807a-0fee395bd8c5"
   },
   "outputs": [
    {
     "data": {
      "text/plain": [
       "((179078, 39), (179078, 39))"
      ]
     },
     "execution_count": 101,
     "metadata": {
      "tags": []
     },
     "output_type": "execute_result"
    }
   ],
   "source": [
    "# Shape of both arrow table and dataframe\n",
    "\n",
    "ipl_arrow.shape, ipl_df.shape"
   ]
  },
  {
   "cell_type": "code",
   "execution_count": 103,
   "metadata": {
    "colab": {
     "base_uri": "https://localhost:8080/",
     "height": 34
    },
    "colab_type": "code",
    "executionInfo": {
     "elapsed": 888,
     "status": "ok",
     "timestamp": 1587747952832,
     "user": {
      "displayName": "Nagaraj S",
      "photoUrl": "https://lh4.googleusercontent.com/-v7bKfyWhG4Y/AAAAAAAAAAI/AAAAAAAAAE4/NEW7mM5ZA_s/s64/photo.jpg",
      "userId": "10770815748068426622"
     },
     "user_tz": -330
    },
    "id": "Ffrl9K8xDKSk",
    "outputId": "5f97cb48-b3aa-4079-c5ff-9e453507fa48"
   },
   "outputs": [
    {
     "data": {
      "text/plain": [
       "pandas.core.frame.DataFrame"
      ]
     },
     "execution_count": 103,
     "metadata": {
      "tags": []
     },
     "output_type": "execute_result"
    }
   ],
   "source": [
    "# arrow table to dataframe\n",
    "\n",
    "ipl_arrow_df = ipl_arrow.to_pandas()\n",
    "type(ipl_arrow_df)"
   ]
  },
  {
   "cell_type": "code",
   "execution_count": 104,
   "metadata": {
    "colab": {
     "base_uri": "https://localhost:8080/",
     "height": 799
    },
    "colab_type": "code",
    "executionInfo": {
     "elapsed": 11161,
     "status": "ok",
     "timestamp": 1587748003421,
     "user": {
      "displayName": "Nagaraj S",
      "photoUrl": "https://lh4.googleusercontent.com/-v7bKfyWhG4Y/AAAAAAAAAAI/AAAAAAAAAE4/NEW7mM5ZA_s/s64/photo.jpg",
      "userId": "10770815748068426622"
     },
     "user_tz": -330
    },
    "id": "J90NKeekJ4h0",
    "outputId": "c2959ff0-ac5a-4f21-b5d4-901f29447168"
   },
   "outputs": [
    {
     "name": "stdout",
     "output_type": "stream",
     "text": [
      "<class 'pandas.core.frame.DataFrame'>\n",
      "RangeIndex: 179078 entries, 0 to 179077\n",
      "Data columns (total 39 columns):\n",
      " #   Column            Non-Null Count   Dtype         \n",
      "---  ------            --------------   -----         \n",
      " 0   match_id          179078 non-null  int64         \n",
      " 1   inning            179078 non-null  int64         \n",
      " 2   batting_team      179078 non-null  object        \n",
      " 3   bowling_team      179078 non-null  object        \n",
      " 4   over              179078 non-null  int64         \n",
      " 5   ball              179078 non-null  int64         \n",
      " 6   batsman           179078 non-null  object        \n",
      " 7   non_striker       179078 non-null  object        \n",
      " 8   bowler            179078 non-null  object        \n",
      " 9   is_super_over     179078 non-null  int64         \n",
      " 10  wide_runs         179078 non-null  int64         \n",
      " 11  bye_runs          179078 non-null  int64         \n",
      " 12  legbye_runs       179078 non-null  int64         \n",
      " 13  noball_runs       179078 non-null  int64         \n",
      " 14  penalty_runs      179078 non-null  int64         \n",
      " 15  batsman_runs      179078 non-null  int64         \n",
      " 16  extra_runs        179078 non-null  int64         \n",
      " 17  total_runs        179078 non-null  int64         \n",
      " 18  player_dismissed  179078 non-null  object        \n",
      " 19  dismissal_kind    179078 non-null  object        \n",
      " 20  fielder           179078 non-null  object        \n",
      " 21  id                179078 non-null  int64         \n",
      " 22  season            179078 non-null  int64         \n",
      " 23  city              179078 non-null  object        \n",
      " 24  date              179078 non-null  datetime64[ns]\n",
      " 25  team1             179078 non-null  object        \n",
      " 26  team2             179078 non-null  object        \n",
      " 27  toss_winner       179078 non-null  object        \n",
      " 28  toss_decision     179078 non-null  object        \n",
      " 29  result            179078 non-null  object        \n",
      " 30  dl_applied        179078 non-null  int64         \n",
      " 31  winner            179078 non-null  object        \n",
      " 32  win_by_runs       179078 non-null  int64         \n",
      " 33  win_by_wickets    179078 non-null  int64         \n",
      " 34  player_of_match   179078 non-null  object        \n",
      " 35  venue             179078 non-null  object        \n",
      " 36  umpire1           179078 non-null  object        \n",
      " 37  umpire2           179078 non-null  object        \n",
      " 38  umpire3           179078 non-null  object        \n",
      "dtypes: datetime64[ns](1), int64(18), object(20)\n",
      "memory usage: 243.8 MB\n"
     ]
    }
   ],
   "source": [
    "# Info of converted data frame\n",
    "\n",
    "ipl_arrow_df.info(memory_usage='deep')"
   ]
  },
  {
   "cell_type": "markdown",
   "metadata": {
    "colab_type": "text",
    "id": "2wRT1ebZKPI2"
   },
   "source": [
    "\n",
    "\n",
    "[Reference1](https://github.com/apache/arrow/issues/4184)\n",
    "\n",
    "[Reference2](https://issues.apache.org/jira/browse/ARROW-5195) "
   ]
  },
  {
   "cell_type": "code",
   "execution_count": 126,
   "metadata": {
    "colab": {
     "base_uri": "https://localhost:8080/",
     "height": 34
    },
    "colab_type": "code",
    "executionInfo": {
     "elapsed": 1057,
     "status": "ok",
     "timestamp": 1587749186645,
     "user": {
      "displayName": "Nagaraj S",
      "photoUrl": "https://lh4.googleusercontent.com/-v7bKfyWhG4Y/AAAAAAAAAAI/AAAAAAAAAE4/NEW7mM5ZA_s/s64/photo.jpg",
      "userId": "10770815748068426622"
     },
     "user_tz": -330
    },
    "id": "mm_wiuXvNzzo",
    "outputId": "e27a1379-6829-49af-8dfd-88f1d517a424"
   },
   "outputs": [
    {
     "data": {
      "text/plain": [
       "0"
      ]
     },
     "execution_count": 126,
     "metadata": {
      "tags": []
     },
     "output_type": "execute_result"
    }
   ],
   "source": [
    "# Null count in a column\n",
    "\n",
    "ipl_arrow.column('umpire3').null_count"
   ]
  },
  {
   "cell_type": "code",
   "execution_count": 0,
   "metadata": {
    "colab": {},
    "colab_type": "code",
    "id": "5XZE0N0iKAle"
   },
   "outputs": [],
   "source": [
    "csv.read_csv?"
   ]
  },
  {
   "cell_type": "code",
   "execution_count": 0,
   "metadata": {
    "colab": {},
    "colab_type": "code",
    "id": "KejMP0d9KkDm"
   },
   "outputs": [],
   "source": [
    "csv.ConvertOptions?"
   ]
  },
  {
   "cell_type": "code",
   "execution_count": 112,
   "metadata": {
    "colab": {
     "base_uri": "https://localhost:8080/",
     "height": 68
    },
    "colab_type": "code",
    "executionInfo": {
     "elapsed": 879,
     "status": "ok",
     "timestamp": 1587748379126,
     "user": {
      "displayName": "Nagaraj S",
      "photoUrl": "https://lh4.googleusercontent.com/-v7bKfyWhG4Y/AAAAAAAAAAI/AAAAAAAAAE4/NEW7mM5ZA_s/s64/photo.jpg",
      "userId": "10770815748068426622"
     },
     "user_tz": -330
    },
    "id": "rcWXb-FqKkIZ",
    "outputId": "980e9717-6f73-492f-f881-56ace1d4f5d8"
   },
   "outputs": [
    {
     "name": "stdout",
     "output_type": "stream",
     "text": [
      "Before Execution - 2020-04-24 17:12:58.616022\n",
      "After Execution  - 2020-04-24 17:12:58.916845\n",
      "Execution time   - 0:00:00.300823\n"
     ]
    }
   ],
   "source": [
    "\n",
    "co = csv.ConvertOptions(strings_can_be_null=True)\n",
    "\n",
    "bf_time = datetime.now()\n",
    "ipl_arrow2 = csv.read_csv(file_loc, convert_options=co)\n",
    "at_time = datetime.now()\n",
    "ex_time = execution_time(bf_time, at_time)\n"
   ]
  },
  {
   "cell_type": "code",
   "execution_count": 127,
   "metadata": {
    "colab": {
     "base_uri": "https://localhost:8080/",
     "height": 34
    },
    "colab_type": "code",
    "executionInfo": {
     "elapsed": 1028,
     "status": "ok",
     "timestamp": 1587749222545,
     "user": {
      "displayName": "Nagaraj S",
      "photoUrl": "https://lh4.googleusercontent.com/-v7bKfyWhG4Y/AAAAAAAAAAI/AAAAAAAAAE4/NEW7mM5ZA_s/s64/photo.jpg",
      "userId": "10770815748068426622"
     },
     "user_tz": -330
    },
    "id": "hn7ICMZpOlR1",
    "outputId": "8ce3a3bb-fae6-4a5b-bc6a-e833195bc44e"
   },
   "outputs": [
    {
     "data": {
      "text/plain": [
       "150712"
      ]
     },
     "execution_count": 127,
     "metadata": {
      "tags": []
     },
     "output_type": "execute_result"
    }
   ],
   "source": [
    "# Null count in a column\n",
    "\n",
    "ipl_arrow2.column('umpire3').null_count"
   ]
  },
  {
   "cell_type": "code",
   "execution_count": 0,
   "metadata": {
    "colab": {},
    "colab_type": "code",
    "id": "WRGV3t8DKkLP"
   },
   "outputs": [],
   "source": [
    "ipl_arrow_df2 = ipl_arrow2.to_pandas()"
   ]
  },
  {
   "cell_type": "code",
   "execution_count": 114,
   "metadata": {
    "colab": {
     "base_uri": "https://localhost:8080/",
     "height": 799
    },
    "colab_type": "code",
    "executionInfo": {
     "elapsed": 11038,
     "status": "ok",
     "timestamp": 1587748521764,
     "user": {
      "displayName": "Nagaraj S",
      "photoUrl": "https://lh4.googleusercontent.com/-v7bKfyWhG4Y/AAAAAAAAAAI/AAAAAAAAAE4/NEW7mM5ZA_s/s64/photo.jpg",
      "userId": "10770815748068426622"
     },
     "user_tz": -330
    },
    "id": "HRxb21D2KkOf",
    "outputId": "713b85f8-ddb7-4714-eba8-9becf8d8d5c5"
   },
   "outputs": [
    {
     "name": "stdout",
     "output_type": "stream",
     "text": [
      "<class 'pandas.core.frame.DataFrame'>\n",
      "RangeIndex: 179078 entries, 0 to 179077\n",
      "Data columns (total 39 columns):\n",
      " #   Column            Non-Null Count   Dtype         \n",
      "---  ------            --------------   -----         \n",
      " 0   match_id          179078 non-null  int64         \n",
      " 1   inning            179078 non-null  int64         \n",
      " 2   batting_team      179078 non-null  object        \n",
      " 3   bowling_team      179078 non-null  object        \n",
      " 4   over              179078 non-null  int64         \n",
      " 5   ball              179078 non-null  int64         \n",
      " 6   batsman           179078 non-null  object        \n",
      " 7   non_striker       179078 non-null  object        \n",
      " 8   bowler            179078 non-null  object        \n",
      " 9   is_super_over     179078 non-null  int64         \n",
      " 10  wide_runs         179078 non-null  int64         \n",
      " 11  bye_runs          179078 non-null  int64         \n",
      " 12  legbye_runs       179078 non-null  int64         \n",
      " 13  noball_runs       179078 non-null  int64         \n",
      " 14  penalty_runs      179078 non-null  int64         \n",
      " 15  batsman_runs      179078 non-null  int64         \n",
      " 16  extra_runs        179078 non-null  int64         \n",
      " 17  total_runs        179078 non-null  int64         \n",
      " 18  player_dismissed  8834 non-null    object        \n",
      " 19  dismissal_kind    8834 non-null    object        \n",
      " 20  fielder           6448 non-null    object        \n",
      " 21  id                179078 non-null  int64         \n",
      " 22  season            179078 non-null  int64         \n",
      " 23  city              177378 non-null  object        \n",
      " 24  date              179078 non-null  datetime64[ns]\n",
      " 25  team1             179078 non-null  object        \n",
      " 26  team2             179078 non-null  object        \n",
      " 27  toss_winner       179078 non-null  object        \n",
      " 28  toss_decision     179078 non-null  object        \n",
      " 29  result            179078 non-null  object        \n",
      " 30  dl_applied        179078 non-null  int64         \n",
      " 31  winner            178706 non-null  object        \n",
      " 32  win_by_runs       179078 non-null  int64         \n",
      " 33  win_by_wickets    179078 non-null  int64         \n",
      " 34  player_of_match   178706 non-null  object        \n",
      " 35  venue             179078 non-null  object        \n",
      " 36  umpire1           178578 non-null  object        \n",
      " 37  umpire2           178578 non-null  object        \n",
      " 38  umpire3           28366 non-null   object        \n",
      "dtypes: datetime64[ns](1), int64(18), object(20)\n",
      "memory usage: 220.3 MB\n"
     ]
    }
   ],
   "source": [
    "ipl_arrow_df2.info(memory_usage='deep')"
   ]
  },
  {
   "cell_type": "code",
   "execution_count": 115,
   "metadata": {
    "colab": {
     "base_uri": "https://localhost:8080/",
     "height": 799
    },
    "colab_type": "code",
    "executionInfo": {
     "elapsed": 11480,
     "status": "ok",
     "timestamp": 1587748655154,
     "user": {
      "displayName": "Nagaraj S",
      "photoUrl": "https://lh4.googleusercontent.com/-v7bKfyWhG4Y/AAAAAAAAAAI/AAAAAAAAAE4/NEW7mM5ZA_s/s64/photo.jpg",
      "userId": "10770815748068426622"
     },
     "user_tz": -330
    },
    "id": "FuqB_UF4KkRo",
    "outputId": "60544f4c-f572-4edc-805c-81cfd04bcc5d"
   },
   "outputs": [
    {
     "name": "stdout",
     "output_type": "stream",
     "text": [
      "<class 'pandas.core.frame.DataFrame'>\n",
      "RangeIndex: 179078 entries, 0 to 179077\n",
      "Data columns (total 39 columns):\n",
      " #   Column            Non-Null Count   Dtype         \n",
      "---  ------            --------------   -----         \n",
      " 0   match_id          179078 non-null  int64         \n",
      " 1   inning            179078 non-null  int64         \n",
      " 2   batting_team      179078 non-null  object        \n",
      " 3   bowling_team      179078 non-null  object        \n",
      " 4   over              179078 non-null  int64         \n",
      " 5   ball              179078 non-null  int64         \n",
      " 6   batsman           179078 non-null  object        \n",
      " 7   non_striker       179078 non-null  object        \n",
      " 8   bowler            179078 non-null  object        \n",
      " 9   is_super_over     179078 non-null  int64         \n",
      " 10  wide_runs         179078 non-null  int64         \n",
      " 11  bye_runs          179078 non-null  int64         \n",
      " 12  legbye_runs       179078 non-null  int64         \n",
      " 13  noball_runs       179078 non-null  int64         \n",
      " 14  penalty_runs      179078 non-null  int64         \n",
      " 15  batsman_runs      179078 non-null  int64         \n",
      " 16  extra_runs        179078 non-null  int64         \n",
      " 17  total_runs        179078 non-null  int64         \n",
      " 18  player_dismissed  8834 non-null    object        \n",
      " 19  dismissal_kind    8834 non-null    object        \n",
      " 20  fielder           6448 non-null    object        \n",
      " 21  id                179078 non-null  int64         \n",
      " 22  season            179078 non-null  int64         \n",
      " 23  city              177378 non-null  object        \n",
      " 24  date              179078 non-null  datetime64[ns]\n",
      " 25  team1             179078 non-null  object        \n",
      " 26  team2             179078 non-null  object        \n",
      " 27  toss_winner       179078 non-null  object        \n",
      " 28  toss_decision     179078 non-null  object        \n",
      " 29  result            179078 non-null  object        \n",
      " 30  dl_applied        179078 non-null  int64         \n",
      " 31  winner            178706 non-null  object        \n",
      " 32  win_by_runs       179078 non-null  int64         \n",
      " 33  win_by_wickets    179078 non-null  int64         \n",
      " 34  player_of_match   178706 non-null  object        \n",
      " 35  venue             179078 non-null  object        \n",
      " 36  umpire1           178578 non-null  object        \n",
      " 37  umpire2           178578 non-null  object        \n",
      " 38  umpire3           28366 non-null   object        \n",
      "dtypes: datetime64[ns](1), int64(18), object(20)\n",
      "memory usage: 225.4 MB\n"
     ]
    }
   ],
   "source": [
    "ipl_df = ipl_df.astype({'date': 'datetime64[ns]'})\n",
    "ipl_df.info(memory_usage='deep')"
   ]
  },
  {
   "cell_type": "code",
   "execution_count": 119,
   "metadata": {
    "colab": {
     "base_uri": "https://localhost:8080/",
     "height": 564
    },
    "colab_type": "code",
    "executionInfo": {
     "elapsed": 966,
     "status": "ok",
     "timestamp": 1587748917621,
     "user": {
      "displayName": "Nagaraj S",
      "photoUrl": "https://lh4.googleusercontent.com/-v7bKfyWhG4Y/AAAAAAAAAAI/AAAAAAAAAE4/NEW7mM5ZA_s/s64/photo.jpg",
      "userId": "10770815748068426622"
     },
     "user_tz": -330
    },
    "id": "M0UvSYGQMb0g",
    "outputId": "b3a1e6c8-5434-4ff3-dc05-09312413271e"
   },
   "outputs": [
    {
     "data": {
      "text/html": [
       "<div>\n",
       "<style scoped>\n",
       "    .dataframe tbody tr th:only-of-type {\n",
       "        vertical-align: middle;\n",
       "    }\n",
       "\n",
       "    .dataframe tbody tr th {\n",
       "        vertical-align: top;\n",
       "    }\n",
       "\n",
       "    .dataframe thead th {\n",
       "        text-align: right;\n",
       "    }\n",
       "</style>\n",
       "<table border=\"1\" class=\"dataframe\">\n",
       "  <thead>\n",
       "    <tr style=\"text-align: right;\">\n",
       "      <th></th>\n",
       "      <th>match_id</th>\n",
       "      <th>inning</th>\n",
       "      <th>batting_team</th>\n",
       "      <th>bowling_team</th>\n",
       "      <th>over</th>\n",
       "      <th>ball</th>\n",
       "      <th>batsman</th>\n",
       "      <th>non_striker</th>\n",
       "      <th>bowler</th>\n",
       "      <th>is_super_over</th>\n",
       "      <th>wide_runs</th>\n",
       "      <th>bye_runs</th>\n",
       "      <th>legbye_runs</th>\n",
       "      <th>noball_runs</th>\n",
       "      <th>penalty_runs</th>\n",
       "      <th>batsman_runs</th>\n",
       "      <th>extra_runs</th>\n",
       "      <th>total_runs</th>\n",
       "      <th>player_dismissed</th>\n",
       "      <th>dismissal_kind</th>\n",
       "      <th>fielder</th>\n",
       "      <th>id</th>\n",
       "      <th>season</th>\n",
       "      <th>city</th>\n",
       "      <th>date</th>\n",
       "      <th>team1</th>\n",
       "      <th>team2</th>\n",
       "      <th>toss_winner</th>\n",
       "      <th>toss_decision</th>\n",
       "      <th>result</th>\n",
       "      <th>dl_applied</th>\n",
       "      <th>winner</th>\n",
       "      <th>win_by_runs</th>\n",
       "      <th>win_by_wickets</th>\n",
       "      <th>player_of_match</th>\n",
       "      <th>venue</th>\n",
       "      <th>umpire1</th>\n",
       "      <th>umpire2</th>\n",
       "      <th>umpire3</th>\n",
       "    </tr>\n",
       "  </thead>\n",
       "  <tbody>\n",
       "    <tr>\n",
       "      <th>0</th>\n",
       "      <td>1</td>\n",
       "      <td>1</td>\n",
       "      <td>SRH</td>\n",
       "      <td>RCB</td>\n",
       "      <td>1</td>\n",
       "      <td>1</td>\n",
       "      <td>DA Warner</td>\n",
       "      <td>S Dhawan</td>\n",
       "      <td>TS Mills</td>\n",
       "      <td>0</td>\n",
       "      <td>0</td>\n",
       "      <td>0</td>\n",
       "      <td>0</td>\n",
       "      <td>0</td>\n",
       "      <td>0</td>\n",
       "      <td>0</td>\n",
       "      <td>0</td>\n",
       "      <td>0</td>\n",
       "      <td>NaN</td>\n",
       "      <td>NaN</td>\n",
       "      <td>NaN</td>\n",
       "      <td>1</td>\n",
       "      <td>2017</td>\n",
       "      <td>Hyderabad</td>\n",
       "      <td>2017-04-05</td>\n",
       "      <td>SRH</td>\n",
       "      <td>RCB</td>\n",
       "      <td>RCB</td>\n",
       "      <td>field</td>\n",
       "      <td>normal</td>\n",
       "      <td>0</td>\n",
       "      <td>SRH</td>\n",
       "      <td>35</td>\n",
       "      <td>0</td>\n",
       "      <td>Yuvraj Singh</td>\n",
       "      <td>Rajiv Gandhi International Stadium, Uppal</td>\n",
       "      <td>AY Dandekar</td>\n",
       "      <td>NJ Llong</td>\n",
       "      <td>NaN</td>\n",
       "    </tr>\n",
       "    <tr>\n",
       "      <th>1</th>\n",
       "      <td>1</td>\n",
       "      <td>1</td>\n",
       "      <td>SRH</td>\n",
       "      <td>RCB</td>\n",
       "      <td>1</td>\n",
       "      <td>2</td>\n",
       "      <td>DA Warner</td>\n",
       "      <td>S Dhawan</td>\n",
       "      <td>TS Mills</td>\n",
       "      <td>0</td>\n",
       "      <td>0</td>\n",
       "      <td>0</td>\n",
       "      <td>0</td>\n",
       "      <td>0</td>\n",
       "      <td>0</td>\n",
       "      <td>0</td>\n",
       "      <td>0</td>\n",
       "      <td>0</td>\n",
       "      <td>NaN</td>\n",
       "      <td>NaN</td>\n",
       "      <td>NaN</td>\n",
       "      <td>1</td>\n",
       "      <td>2017</td>\n",
       "      <td>Hyderabad</td>\n",
       "      <td>2017-04-05</td>\n",
       "      <td>SRH</td>\n",
       "      <td>RCB</td>\n",
       "      <td>RCB</td>\n",
       "      <td>field</td>\n",
       "      <td>normal</td>\n",
       "      <td>0</td>\n",
       "      <td>SRH</td>\n",
       "      <td>35</td>\n",
       "      <td>0</td>\n",
       "      <td>Yuvraj Singh</td>\n",
       "      <td>Rajiv Gandhi International Stadium, Uppal</td>\n",
       "      <td>AY Dandekar</td>\n",
       "      <td>NJ Llong</td>\n",
       "      <td>NaN</td>\n",
       "    </tr>\n",
       "    <tr>\n",
       "      <th>2</th>\n",
       "      <td>1</td>\n",
       "      <td>1</td>\n",
       "      <td>SRH</td>\n",
       "      <td>RCB</td>\n",
       "      <td>1</td>\n",
       "      <td>3</td>\n",
       "      <td>DA Warner</td>\n",
       "      <td>S Dhawan</td>\n",
       "      <td>TS Mills</td>\n",
       "      <td>0</td>\n",
       "      <td>0</td>\n",
       "      <td>0</td>\n",
       "      <td>0</td>\n",
       "      <td>0</td>\n",
       "      <td>0</td>\n",
       "      <td>4</td>\n",
       "      <td>0</td>\n",
       "      <td>4</td>\n",
       "      <td>NaN</td>\n",
       "      <td>NaN</td>\n",
       "      <td>NaN</td>\n",
       "      <td>1</td>\n",
       "      <td>2017</td>\n",
       "      <td>Hyderabad</td>\n",
       "      <td>2017-04-05</td>\n",
       "      <td>SRH</td>\n",
       "      <td>RCB</td>\n",
       "      <td>RCB</td>\n",
       "      <td>field</td>\n",
       "      <td>normal</td>\n",
       "      <td>0</td>\n",
       "      <td>SRH</td>\n",
       "      <td>35</td>\n",
       "      <td>0</td>\n",
       "      <td>Yuvraj Singh</td>\n",
       "      <td>Rajiv Gandhi International Stadium, Uppal</td>\n",
       "      <td>AY Dandekar</td>\n",
       "      <td>NJ Llong</td>\n",
       "      <td>NaN</td>\n",
       "    </tr>\n",
       "    <tr>\n",
       "      <th>3</th>\n",
       "      <td>1</td>\n",
       "      <td>1</td>\n",
       "      <td>SRH</td>\n",
       "      <td>RCB</td>\n",
       "      <td>1</td>\n",
       "      <td>4</td>\n",
       "      <td>DA Warner</td>\n",
       "      <td>S Dhawan</td>\n",
       "      <td>TS Mills</td>\n",
       "      <td>0</td>\n",
       "      <td>0</td>\n",
       "      <td>0</td>\n",
       "      <td>0</td>\n",
       "      <td>0</td>\n",
       "      <td>0</td>\n",
       "      <td>0</td>\n",
       "      <td>0</td>\n",
       "      <td>0</td>\n",
       "      <td>NaN</td>\n",
       "      <td>NaN</td>\n",
       "      <td>NaN</td>\n",
       "      <td>1</td>\n",
       "      <td>2017</td>\n",
       "      <td>Hyderabad</td>\n",
       "      <td>2017-04-05</td>\n",
       "      <td>SRH</td>\n",
       "      <td>RCB</td>\n",
       "      <td>RCB</td>\n",
       "      <td>field</td>\n",
       "      <td>normal</td>\n",
       "      <td>0</td>\n",
       "      <td>SRH</td>\n",
       "      <td>35</td>\n",
       "      <td>0</td>\n",
       "      <td>Yuvraj Singh</td>\n",
       "      <td>Rajiv Gandhi International Stadium, Uppal</td>\n",
       "      <td>AY Dandekar</td>\n",
       "      <td>NJ Llong</td>\n",
       "      <td>NaN</td>\n",
       "    </tr>\n",
       "    <tr>\n",
       "      <th>4</th>\n",
       "      <td>1</td>\n",
       "      <td>1</td>\n",
       "      <td>SRH</td>\n",
       "      <td>RCB</td>\n",
       "      <td>1</td>\n",
       "      <td>5</td>\n",
       "      <td>DA Warner</td>\n",
       "      <td>S Dhawan</td>\n",
       "      <td>TS Mills</td>\n",
       "      <td>0</td>\n",
       "      <td>2</td>\n",
       "      <td>0</td>\n",
       "      <td>0</td>\n",
       "      <td>0</td>\n",
       "      <td>0</td>\n",
       "      <td>0</td>\n",
       "      <td>2</td>\n",
       "      <td>2</td>\n",
       "      <td>NaN</td>\n",
       "      <td>NaN</td>\n",
       "      <td>NaN</td>\n",
       "      <td>1</td>\n",
       "      <td>2017</td>\n",
       "      <td>Hyderabad</td>\n",
       "      <td>2017-04-05</td>\n",
       "      <td>SRH</td>\n",
       "      <td>RCB</td>\n",
       "      <td>RCB</td>\n",
       "      <td>field</td>\n",
       "      <td>normal</td>\n",
       "      <td>0</td>\n",
       "      <td>SRH</td>\n",
       "      <td>35</td>\n",
       "      <td>0</td>\n",
       "      <td>Yuvraj Singh</td>\n",
       "      <td>Rajiv Gandhi International Stadium, Uppal</td>\n",
       "      <td>AY Dandekar</td>\n",
       "      <td>NJ Llong</td>\n",
       "      <td>NaN</td>\n",
       "    </tr>\n",
       "  </tbody>\n",
       "</table>\n",
       "</div>"
      ],
      "text/plain": [
       "   match_id  inning batting_team  ...      umpire1   umpire2  umpire3\n",
       "0         1       1          SRH  ...  AY Dandekar  NJ Llong      NaN\n",
       "1         1       1          SRH  ...  AY Dandekar  NJ Llong      NaN\n",
       "2         1       1          SRH  ...  AY Dandekar  NJ Llong      NaN\n",
       "3         1       1          SRH  ...  AY Dandekar  NJ Llong      NaN\n",
       "4         1       1          SRH  ...  AY Dandekar  NJ Llong      NaN\n",
       "\n",
       "[5 rows x 39 columns]"
      ]
     },
     "execution_count": 119,
     "metadata": {
      "tags": []
     },
     "output_type": "execute_result"
    }
   ],
   "source": [
    "ipl_df.head()"
   ]
  },
  {
   "cell_type": "code",
   "execution_count": 120,
   "metadata": {
    "colab": {
     "base_uri": "https://localhost:8080/",
     "height": 564
    },
    "colab_type": "code",
    "executionInfo": {
     "elapsed": 1071,
     "status": "ok",
     "timestamp": 1587748925573,
     "user": {
      "displayName": "Nagaraj S",
      "photoUrl": "https://lh4.googleusercontent.com/-v7bKfyWhG4Y/AAAAAAAAAAI/AAAAAAAAAE4/NEW7mM5ZA_s/s64/photo.jpg",
      "userId": "10770815748068426622"
     },
     "user_tz": -330
    },
    "id": "hwYQosOXMbcl",
    "outputId": "bb742256-e588-42da-c363-aef603d86286"
   },
   "outputs": [
    {
     "data": {
      "text/html": [
       "<div>\n",
       "<style scoped>\n",
       "    .dataframe tbody tr th:only-of-type {\n",
       "        vertical-align: middle;\n",
       "    }\n",
       "\n",
       "    .dataframe tbody tr th {\n",
       "        vertical-align: top;\n",
       "    }\n",
       "\n",
       "    .dataframe thead th {\n",
       "        text-align: right;\n",
       "    }\n",
       "</style>\n",
       "<table border=\"1\" class=\"dataframe\">\n",
       "  <thead>\n",
       "    <tr style=\"text-align: right;\">\n",
       "      <th></th>\n",
       "      <th>match_id</th>\n",
       "      <th>inning</th>\n",
       "      <th>batting_team</th>\n",
       "      <th>bowling_team</th>\n",
       "      <th>over</th>\n",
       "      <th>ball</th>\n",
       "      <th>batsman</th>\n",
       "      <th>non_striker</th>\n",
       "      <th>bowler</th>\n",
       "      <th>is_super_over</th>\n",
       "      <th>wide_runs</th>\n",
       "      <th>bye_runs</th>\n",
       "      <th>legbye_runs</th>\n",
       "      <th>noball_runs</th>\n",
       "      <th>penalty_runs</th>\n",
       "      <th>batsman_runs</th>\n",
       "      <th>extra_runs</th>\n",
       "      <th>total_runs</th>\n",
       "      <th>player_dismissed</th>\n",
       "      <th>dismissal_kind</th>\n",
       "      <th>fielder</th>\n",
       "      <th>id</th>\n",
       "      <th>season</th>\n",
       "      <th>city</th>\n",
       "      <th>date</th>\n",
       "      <th>team1</th>\n",
       "      <th>team2</th>\n",
       "      <th>toss_winner</th>\n",
       "      <th>toss_decision</th>\n",
       "      <th>result</th>\n",
       "      <th>dl_applied</th>\n",
       "      <th>winner</th>\n",
       "      <th>win_by_runs</th>\n",
       "      <th>win_by_wickets</th>\n",
       "      <th>player_of_match</th>\n",
       "      <th>venue</th>\n",
       "      <th>umpire1</th>\n",
       "      <th>umpire2</th>\n",
       "      <th>umpire3</th>\n",
       "    </tr>\n",
       "  </thead>\n",
       "  <tbody>\n",
       "    <tr>\n",
       "      <th>0</th>\n",
       "      <td>1</td>\n",
       "      <td>1</td>\n",
       "      <td>SRH</td>\n",
       "      <td>RCB</td>\n",
       "      <td>1</td>\n",
       "      <td>1</td>\n",
       "      <td>DA Warner</td>\n",
       "      <td>S Dhawan</td>\n",
       "      <td>TS Mills</td>\n",
       "      <td>0</td>\n",
       "      <td>0</td>\n",
       "      <td>0</td>\n",
       "      <td>0</td>\n",
       "      <td>0</td>\n",
       "      <td>0</td>\n",
       "      <td>0</td>\n",
       "      <td>0</td>\n",
       "      <td>0</td>\n",
       "      <td>None</td>\n",
       "      <td>None</td>\n",
       "      <td>None</td>\n",
       "      <td>1</td>\n",
       "      <td>2017</td>\n",
       "      <td>Hyderabad</td>\n",
       "      <td>2017-04-05</td>\n",
       "      <td>SRH</td>\n",
       "      <td>RCB</td>\n",
       "      <td>RCB</td>\n",
       "      <td>field</td>\n",
       "      <td>normal</td>\n",
       "      <td>0</td>\n",
       "      <td>SRH</td>\n",
       "      <td>35</td>\n",
       "      <td>0</td>\n",
       "      <td>Yuvraj Singh</td>\n",
       "      <td>Rajiv Gandhi International Stadium, Uppal</td>\n",
       "      <td>AY Dandekar</td>\n",
       "      <td>NJ Llong</td>\n",
       "      <td>None</td>\n",
       "    </tr>\n",
       "    <tr>\n",
       "      <th>1</th>\n",
       "      <td>1</td>\n",
       "      <td>1</td>\n",
       "      <td>SRH</td>\n",
       "      <td>RCB</td>\n",
       "      <td>1</td>\n",
       "      <td>2</td>\n",
       "      <td>DA Warner</td>\n",
       "      <td>S Dhawan</td>\n",
       "      <td>TS Mills</td>\n",
       "      <td>0</td>\n",
       "      <td>0</td>\n",
       "      <td>0</td>\n",
       "      <td>0</td>\n",
       "      <td>0</td>\n",
       "      <td>0</td>\n",
       "      <td>0</td>\n",
       "      <td>0</td>\n",
       "      <td>0</td>\n",
       "      <td>None</td>\n",
       "      <td>None</td>\n",
       "      <td>None</td>\n",
       "      <td>1</td>\n",
       "      <td>2017</td>\n",
       "      <td>Hyderabad</td>\n",
       "      <td>2017-04-05</td>\n",
       "      <td>SRH</td>\n",
       "      <td>RCB</td>\n",
       "      <td>RCB</td>\n",
       "      <td>field</td>\n",
       "      <td>normal</td>\n",
       "      <td>0</td>\n",
       "      <td>SRH</td>\n",
       "      <td>35</td>\n",
       "      <td>0</td>\n",
       "      <td>Yuvraj Singh</td>\n",
       "      <td>Rajiv Gandhi International Stadium, Uppal</td>\n",
       "      <td>AY Dandekar</td>\n",
       "      <td>NJ Llong</td>\n",
       "      <td>None</td>\n",
       "    </tr>\n",
       "    <tr>\n",
       "      <th>2</th>\n",
       "      <td>1</td>\n",
       "      <td>1</td>\n",
       "      <td>SRH</td>\n",
       "      <td>RCB</td>\n",
       "      <td>1</td>\n",
       "      <td>3</td>\n",
       "      <td>DA Warner</td>\n",
       "      <td>S Dhawan</td>\n",
       "      <td>TS Mills</td>\n",
       "      <td>0</td>\n",
       "      <td>0</td>\n",
       "      <td>0</td>\n",
       "      <td>0</td>\n",
       "      <td>0</td>\n",
       "      <td>0</td>\n",
       "      <td>4</td>\n",
       "      <td>0</td>\n",
       "      <td>4</td>\n",
       "      <td>None</td>\n",
       "      <td>None</td>\n",
       "      <td>None</td>\n",
       "      <td>1</td>\n",
       "      <td>2017</td>\n",
       "      <td>Hyderabad</td>\n",
       "      <td>2017-04-05</td>\n",
       "      <td>SRH</td>\n",
       "      <td>RCB</td>\n",
       "      <td>RCB</td>\n",
       "      <td>field</td>\n",
       "      <td>normal</td>\n",
       "      <td>0</td>\n",
       "      <td>SRH</td>\n",
       "      <td>35</td>\n",
       "      <td>0</td>\n",
       "      <td>Yuvraj Singh</td>\n",
       "      <td>Rajiv Gandhi International Stadium, Uppal</td>\n",
       "      <td>AY Dandekar</td>\n",
       "      <td>NJ Llong</td>\n",
       "      <td>None</td>\n",
       "    </tr>\n",
       "    <tr>\n",
       "      <th>3</th>\n",
       "      <td>1</td>\n",
       "      <td>1</td>\n",
       "      <td>SRH</td>\n",
       "      <td>RCB</td>\n",
       "      <td>1</td>\n",
       "      <td>4</td>\n",
       "      <td>DA Warner</td>\n",
       "      <td>S Dhawan</td>\n",
       "      <td>TS Mills</td>\n",
       "      <td>0</td>\n",
       "      <td>0</td>\n",
       "      <td>0</td>\n",
       "      <td>0</td>\n",
       "      <td>0</td>\n",
       "      <td>0</td>\n",
       "      <td>0</td>\n",
       "      <td>0</td>\n",
       "      <td>0</td>\n",
       "      <td>None</td>\n",
       "      <td>None</td>\n",
       "      <td>None</td>\n",
       "      <td>1</td>\n",
       "      <td>2017</td>\n",
       "      <td>Hyderabad</td>\n",
       "      <td>2017-04-05</td>\n",
       "      <td>SRH</td>\n",
       "      <td>RCB</td>\n",
       "      <td>RCB</td>\n",
       "      <td>field</td>\n",
       "      <td>normal</td>\n",
       "      <td>0</td>\n",
       "      <td>SRH</td>\n",
       "      <td>35</td>\n",
       "      <td>0</td>\n",
       "      <td>Yuvraj Singh</td>\n",
       "      <td>Rajiv Gandhi International Stadium, Uppal</td>\n",
       "      <td>AY Dandekar</td>\n",
       "      <td>NJ Llong</td>\n",
       "      <td>None</td>\n",
       "    </tr>\n",
       "    <tr>\n",
       "      <th>4</th>\n",
       "      <td>1</td>\n",
       "      <td>1</td>\n",
       "      <td>SRH</td>\n",
       "      <td>RCB</td>\n",
       "      <td>1</td>\n",
       "      <td>5</td>\n",
       "      <td>DA Warner</td>\n",
       "      <td>S Dhawan</td>\n",
       "      <td>TS Mills</td>\n",
       "      <td>0</td>\n",
       "      <td>2</td>\n",
       "      <td>0</td>\n",
       "      <td>0</td>\n",
       "      <td>0</td>\n",
       "      <td>0</td>\n",
       "      <td>0</td>\n",
       "      <td>2</td>\n",
       "      <td>2</td>\n",
       "      <td>None</td>\n",
       "      <td>None</td>\n",
       "      <td>None</td>\n",
       "      <td>1</td>\n",
       "      <td>2017</td>\n",
       "      <td>Hyderabad</td>\n",
       "      <td>2017-04-05</td>\n",
       "      <td>SRH</td>\n",
       "      <td>RCB</td>\n",
       "      <td>RCB</td>\n",
       "      <td>field</td>\n",
       "      <td>normal</td>\n",
       "      <td>0</td>\n",
       "      <td>SRH</td>\n",
       "      <td>35</td>\n",
       "      <td>0</td>\n",
       "      <td>Yuvraj Singh</td>\n",
       "      <td>Rajiv Gandhi International Stadium, Uppal</td>\n",
       "      <td>AY Dandekar</td>\n",
       "      <td>NJ Llong</td>\n",
       "      <td>None</td>\n",
       "    </tr>\n",
       "  </tbody>\n",
       "</table>\n",
       "</div>"
      ],
      "text/plain": [
       "   match_id  inning batting_team  ...      umpire1   umpire2  umpire3\n",
       "0         1       1          SRH  ...  AY Dandekar  NJ Llong     None\n",
       "1         1       1          SRH  ...  AY Dandekar  NJ Llong     None\n",
       "2         1       1          SRH  ...  AY Dandekar  NJ Llong     None\n",
       "3         1       1          SRH  ...  AY Dandekar  NJ Llong     None\n",
       "4         1       1          SRH  ...  AY Dandekar  NJ Llong     None\n",
       "\n",
       "[5 rows x 39 columns]"
      ]
     },
     "execution_count": 120,
     "metadata": {
      "tags": []
     },
     "output_type": "execute_result"
    }
   ],
   "source": [
    "ipl_arrow_df2.head()"
   ]
  },
  {
   "cell_type": "code",
   "execution_count": 0,
   "metadata": {
    "colab": {},
    "colab_type": "code",
    "id": "YkGjfYS2Or0I"
   },
   "outputs": [],
   "source": []
  },
  {
   "cell_type": "code",
   "execution_count": 0,
   "metadata": {
    "colab": {},
    "colab_type": "code",
    "id": "dxRXE0TOOsOc"
   },
   "outputs": [],
   "source": []
  },
  {
   "cell_type": "code",
   "execution_count": 0,
   "metadata": {
    "colab": {},
    "colab_type": "code",
    "id": "AuAyZ4EHOsLX"
   },
   "outputs": [],
   "source": []
  },
  {
   "cell_type": "code",
   "execution_count": 0,
   "metadata": {
    "colab": {},
    "colab_type": "code",
    "id": "zYQOIbGnOsIF"
   },
   "outputs": [],
   "source": []
  },
  {
   "cell_type": "code",
   "execution_count": 0,
   "metadata": {
    "colab": {},
    "colab_type": "code",
    "id": "8xma1EN7OsCe"
   },
   "outputs": [],
   "source": []
  },
  {
   "cell_type": "code",
   "execution_count": 0,
   "metadata": {
    "colab": {},
    "colab_type": "code",
    "id": "H41t3ATUMbXx"
   },
   "outputs": [],
   "source": []
  },
  {
   "cell_type": "code",
   "execution_count": 0,
   "metadata": {
    "colab": {},
    "colab_type": "code",
    "id": "HHAInc4PE43N"
   },
   "outputs": [],
   "source": [
    "# Arrow to Ordered dictionary\n",
    "\n",
    "ipl_dict = ipl_arrow.to_pydict()"
   ]
  },
  {
   "cell_type": "code",
   "execution_count": 95,
   "metadata": {
    "colab": {
     "base_uri": "https://localhost:8080/",
     "height": 34
    },
    "colab_type": "code",
    "executionInfo": {
     "elapsed": 889,
     "status": "ok",
     "timestamp": 1587747550547,
     "user": {
      "displayName": "Nagaraj S",
      "photoUrl": "https://lh4.googleusercontent.com/-v7bKfyWhG4Y/AAAAAAAAAAI/AAAAAAAAAE4/NEW7mM5ZA_s/s64/photo.jpg",
      "userId": "10770815748068426622"
     },
     "user_tz": -330
    },
    "id": "8ZCBbBGqDKNa",
    "outputId": "90896bde-5fae-40ed-9455-513af0f87464"
   },
   "outputs": [
    {
     "data": {
      "text/plain": [
       "collections.OrderedDict"
      ]
     },
     "execution_count": 95,
     "metadata": {
      "tags": []
     },
     "output_type": "execute_result"
    }
   ],
   "source": [
    "type(ipl_dict)"
   ]
  },
  {
   "cell_type": "code",
   "execution_count": 98,
   "metadata": {
    "colab": {
     "base_uri": "https://localhost:8080/",
     "height": 54
    },
    "colab_type": "code",
    "executionInfo": {
     "elapsed": 948,
     "status": "ok",
     "timestamp": 1587747724838,
     "user": {
      "displayName": "Nagaraj S",
      "photoUrl": "https://lh4.googleusercontent.com/-v7bKfyWhG4Y/AAAAAAAAAAI/AAAAAAAAAE4/NEW7mM5ZA_s/s64/photo.jpg",
      "userId": "10770815748068426622"
     },
     "user_tz": -330
    },
    "id": "kXhJjtypFAQy",
    "outputId": "30d5a035-2213-4cc5-a328-adc9e8db5be3"
   },
   "outputs": [
    {
     "data": {
      "text/plain": [
       "odict_keys(['match_id', 'inning', 'batting_team', 'bowling_team', 'over', 'ball', 'batsman', 'non_striker', 'bowler', 'is_super_over', 'wide_runs', 'bye_runs', 'legbye_runs', 'noball_runs', 'penalty_runs', 'batsman_runs', 'extra_runs', 'total_runs', 'player_dismissed', 'dismissal_kind', 'fielder', 'id', 'season', 'city', 'date', 'team1', 'team2', 'toss_winner', 'toss_decision', 'result', 'dl_applied', 'winner', 'win_by_runs', 'win_by_wickets', 'player_of_match', 'venue', 'umpire1', 'umpire2', 'umpire3'])"
      ]
     },
     "execution_count": 98,
     "metadata": {
      "tags": []
     },
     "output_type": "execute_result"
    }
   ],
   "source": [
    "ipl_dict.keys()"
   ]
  },
  {
   "cell_type": "code",
   "execution_count": 129,
   "metadata": {
    "colab": {
     "base_uri": "https://localhost:8080/",
     "height": 34
    },
    "colab_type": "code",
    "executionInfo": {
     "elapsed": 945,
     "status": "ok",
     "timestamp": 1587749350172,
     "user": {
      "displayName": "Nagaraj S",
      "photoUrl": "https://lh4.googleusercontent.com/-v7bKfyWhG4Y/AAAAAAAAAAI/AAAAAAAAAE4/NEW7mM5ZA_s/s64/photo.jpg",
      "userId": "10770815748068426622"
     },
     "user_tz": -330
    },
    "id": "7GZ0VgkZJAHP",
    "outputId": "27b3105f-a7f6-4092-b7bd-2e66bf799f88"
   },
   "outputs": [
    {
     "data": {
      "text/plain": [
       "3008"
      ]
     },
     "execution_count": 129,
     "metadata": {
      "tags": []
     },
     "output_type": "execute_result"
    }
   ],
   "source": [
    "sys.getsizeof(ipl_dict)"
   ]
  },
  {
   "cell_type": "code",
   "execution_count": 0,
   "metadata": {
    "colab": {},
    "colab_type": "code",
    "id": "KlEd0qXvPGWt"
   },
   "outputs": [],
   "source": [
    "# parquet file\n",
    "\n",
    "pq.write_table(ipl_arrow2, f'{file_dir}deliveries_and_matches.parquet')"
   ]
  },
  {
   "cell_type": "code",
   "execution_count": 142,
   "metadata": {
    "colab": {
     "base_uri": "https://localhost:8080/",
     "height": 51
    },
    "colab_type": "code",
    "executionInfo": {
     "elapsed": 1002,
     "status": "ok",
     "timestamp": 1587750267372,
     "user": {
      "displayName": "Nagaraj S",
      "photoUrl": "https://lh4.googleusercontent.com/-v7bKfyWhG4Y/AAAAAAAAAAI/AAAAAAAAAE4/NEW7mM5ZA_s/s64/photo.jpg",
      "userId": "10770815748068426622"
     },
     "user_tz": -330
    },
    "id": "cY0b8dIqQdpY",
    "outputId": "04e7ba9f-f97a-47ca-9a86-9f77ebc9db80"
   },
   "outputs": [
    {
     "name": "stdout",
     "output_type": "stream",
     "text": [
      "parquet file size in Bytes = 816580\n",
      "parquet file size in KB = 797.44\n"
     ]
    }
   ],
   "source": [
    "print(f\"parquet file size in Bytes = {os.path.getsize(f'{file_dir}deliveries_and_matches.parquet')}\")\n",
    "print(f\"parquet file size in KB = {os.path.getsize(f'{file_dir}deliveries_and_matches.parquet')/1024:.2f}\")"
   ]
  },
  {
   "cell_type": "code",
   "execution_count": 143,
   "metadata": {
    "colab": {
     "base_uri": "https://localhost:8080/",
     "height": 68
    },
    "colab_type": "code",
    "executionInfo": {
     "elapsed": 1022,
     "status": "ok",
     "timestamp": 1587750378138,
     "user": {
      "displayName": "Nagaraj S",
      "photoUrl": "https://lh4.googleusercontent.com/-v7bKfyWhG4Y/AAAAAAAAAAI/AAAAAAAAAE4/NEW7mM5ZA_s/s64/photo.jpg",
      "userId": "10770815748068426622"
     },
     "user_tz": -330
    },
    "id": "aVoWvx8eQdmu",
    "outputId": "e0a10dca-0112-4142-e245-85e78bf8864b"
   },
   "outputs": [
    {
     "name": "stdout",
     "output_type": "stream",
     "text": [
      "Before Execution - 2020-04-24 17:46:17.555183\n",
      "After Execution  - 2020-04-24 17:46:17.708032\n",
      "Execution time   - 0:00:00.152849\n"
     ]
    }
   ],
   "source": [
    "# Read parquet file in pyarrow\n",
    "\n",
    "bf_time = datetime.now()\n",
    "ipl_parquet_arrow = pq.read_table(f'{file_dir}deliveries_and_matches.parquet')\n",
    "at_time = datetime.now()\n",
    "ex_time = execution_time(bf_time, at_time)"
   ]
  },
  {
   "cell_type": "code",
   "execution_count": 144,
   "metadata": {
    "colab": {
     "base_uri": "https://localhost:8080/",
     "height": 34
    },
    "colab_type": "code",
    "executionInfo": {
     "elapsed": 1215,
     "status": "ok",
     "timestamp": 1587750406277,
     "user": {
      "displayName": "Nagaraj S",
      "photoUrl": "https://lh4.googleusercontent.com/-v7bKfyWhG4Y/AAAAAAAAAAI/AAAAAAAAAE4/NEW7mM5ZA_s/s64/photo.jpg",
      "userId": "10770815748068426622"
     },
     "user_tz": -330
    },
    "id": "qIwLkhtrQdi6",
    "outputId": "a4476b70-7c98-4de7-c6b7-08b836755581"
   },
   "outputs": [
    {
     "data": {
      "text/plain": [
       "150712"
      ]
     },
     "execution_count": 144,
     "metadata": {
      "tags": []
     },
     "output_type": "execute_result"
    }
   ],
   "source": [
    "ipl_parquet_arrow.column('umpire3').null_count"
   ]
  },
  {
   "cell_type": "code",
   "execution_count": 0,
   "metadata": {
    "colab": {},
    "colab_type": "code",
    "id": "bukGLLCoTIJZ"
   },
   "outputs": [],
   "source": []
  },
  {
   "cell_type": "code",
   "execution_count": 0,
   "metadata": {
    "colab": {},
    "colab_type": "code",
    "id": "DRcNJkoEVb8V"
   },
   "outputs": [],
   "source": []
  },
  {
   "cell_type": "code",
   "execution_count": 0,
   "metadata": {
    "colab": {},
    "colab_type": "code",
    "id": "BElfblbCVb5p"
   },
   "outputs": [],
   "source": []
  },
  {
   "cell_type": "code",
   "execution_count": 0,
   "metadata": {
    "colab": {},
    "colab_type": "code",
    "id": "rfWZSmyRVb2c"
   },
   "outputs": [],
   "source": []
  },
  {
   "cell_type": "code",
   "execution_count": 0,
   "metadata": {
    "colab": {},
    "colab_type": "code",
    "id": "8Q5MGAlrVbvZ"
   },
   "outputs": [],
   "source": []
  }
 ],
 "metadata": {
  "colab": {
   "authorship_tag": "ABX9TyMDKg+GyOelKrZv/aT0/GGM",
   "collapsed_sections": [],
   "mount_file_id": "170ytbKJFLvvDwU4dmWyzBPRMyFfPzHGe",
   "name": "apache_arrow_read_file.ipynb",
   "provenance": []
  },
  "kernelspec": {
   "display_name": "Python 3",
   "language": "python",
   "name": "python3"
  },
  "language_info": {
   "codemirror_mode": {
    "name": "ipython",
    "version": 3
   },
   "file_extension": ".py",
   "mimetype": "text/x-python",
   "name": "python",
   "nbconvert_exporter": "python",
   "pygments_lexer": "ipython3",
   "version": "3.7.4"
  }
 },
 "nbformat": 4,
 "nbformat_minor": 1
}
