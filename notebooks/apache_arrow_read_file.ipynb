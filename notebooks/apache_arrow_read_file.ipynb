{
  "nbformat": 4,
  "nbformat_minor": 0,
  "metadata": {
    "colab": {
      "name": "apache_arrow_read_file.ipynb",
      "provenance": [],
      "collapsed_sections": []
    },
    "kernelspec": {
      "display_name": "Python 3",
      "language": "python",
      "name": "python3"
    },
    "language_info": {
      "codemirror_mode": {
        "name": "ipython",
        "version": 3
      },
      "file_extension": ".py",
      "mimetype": "text/x-python",
      "name": "python",
      "nbconvert_exporter": "python",
      "pygments_lexer": "ipython3",
      "version": "3.7.4"
    }
  },
  "cells": [
    {
      "cell_type": "markdown",
      "metadata": {
        "id": "Q0pZgpuVQ4ed",
        "colab_type": "text"
      },
      "source": [
        "# Apache Arrow\n",
        "\n",
        "## Comparison between Apache Arrow table and Pandas dataframe \n",
        "\n",
        "**Example - data:**\n",
        "\n",
        "- ipl data deliveries and matches merged. (~34 MB)\n",
        "\n",
        "*Refer my IPL data analysis repository \n",
        "[here](https://github.com/nagaraj-datascientist/ipl_data_analysis)*\n"
      ]
    },
    {
      "cell_type": "code",
      "metadata": {
        "colab_type": "code",
        "id": "pqpUwyBo15ce",
        "colab": {}
      },
      "source": [
        "# Import libraries\n",
        "\n",
        "import pyarrow as pa\n",
        "from pyarrow import csv\n",
        "import pyarrow.parquet as pq\n",
        "\n",
        "import pandas as pd\n",
        "\n",
        "from datetime import datetime\n",
        "\n",
        "import os\n",
        "import sys\n"
      ],
      "execution_count": 0,
      "outputs": []
    },
    {
      "cell_type": "code",
      "metadata": {
        "colab_type": "code",
        "id": "WRRgjul_9Cba",
        "colab": {}
      },
      "source": [
        "# Execution time function\n",
        "\n",
        "def execution_time(bf, at):\n",
        "    print(f'Before Execution - {bf}')\n",
        "    print(f'After Execution  - {at}')\n",
        "    print(f'Execution time   - {at-bf}')\n",
        "    return at-bf"
      ],
      "execution_count": 0,
      "outputs": []
    },
    {
      "cell_type": "markdown",
      "metadata": {
        "id": "ByIpTNSXTQlH",
        "colab_type": "text"
      },
      "source": [
        "### File location\n",
        "\n",
        "Used Google colab for development, Referred drive location in file_dir, change the proper file location before execution."
      ]
    },
    {
      "cell_type": "code",
      "metadata": {
        "colab_type": "code",
        "id": "7f0klg8wLBaY",
        "colab": {
          "base_uri": "https://localhost:8080/",
          "height": 34
        },
        "outputId": "39e8aa95-4e22-4245-bbf8-3ce1505c9d6f"
      },
      "source": [
        "# File location\n",
        "\n",
        "file_dir = '/content/drive/My Drive/GitHub/Apache_Arrow_Basic_Operations/data/'\n",
        "\n",
        "# file_dir = '../data/'\n",
        "\n",
        "file_loc = f'{file_dir}deliveries_and_matches.csv'\n",
        "\n",
        "file_loc"
      ],
      "execution_count": 147,
      "outputs": [
        {
          "output_type": "execute_result",
          "data": {
            "text/plain": [
              "'/content/drive/My Drive/GitHub/Apache_Arrow_Basic_Operations/data/deliveries_and_matches.csv'"
            ]
          },
          "metadata": {
            "tags": []
          },
          "execution_count": 147
        }
      ]
    },
    {
      "cell_type": "code",
      "metadata": {
        "id": "7dMHA5j6UtX_",
        "colab_type": "code",
        "colab": {}
      },
      "source": [
        "# from google.colab import drive\n",
        "# drive.mount('/content/drive')"
      ],
      "execution_count": 0,
      "outputs": []
    },
    {
      "cell_type": "code",
      "metadata": {
        "colab_type": "code",
        "id": "6mj-wM878UUa",
        "outputId": "e5751aa1-a666-4e45-a754-2dd7ab1f6f7e",
        "colab": {
          "base_uri": "https://localhost:8080/",
          "height": 102
        }
      },
      "source": [
        "# Read csv file in pandas\n",
        "\n",
        "bf_time = datetime.now()\n",
        "ipl_df = pd.read_csv(file_loc)\n",
        "at_time = datetime.now()\n",
        "ex_time = execution_time(bf_time, at_time)"
      ],
      "execution_count": 148,
      "outputs": [
        {
          "output_type": "stream",
          "text": [
            "/usr/local/lib/python3.6/dist-packages/IPython/core/interactiveshell.py:2718: DtypeWarning: Columns (38) have mixed types.Specify dtype option on import or set low_memory=False.\n",
            "  interactivity=interactivity, compiler=compiler, result=result)\n"
          ],
          "name": "stderr"
        },
        {
          "output_type": "stream",
          "text": [
            "Before Execution - 2020-04-25 07:47:53.137761\n",
            "After Execution  - 2020-04-25 07:47:54.146415\n",
            "Execution time   - 0:00:01.008654\n"
          ],
          "name": "stdout"
        }
      ]
    },
    {
      "cell_type": "markdown",
      "metadata": {
        "colab_type": "text",
        "id": "WTDGP_bX-eTh"
      },
      "source": [
        "### DtypeWarning\n",
        "\n",
        "This warning is issued when dealing with larger files because the dtype checking happens per chunk read. [Refer](https://pandas.pydata.org/pandas-docs/stable/reference/api/pandas.errors.DtypeWarning.html)\n"
      ]
    },
    {
      "cell_type": "code",
      "metadata": {
        "colab_type": "code",
        "id": "f13K9diW-dnU",
        "outputId": "e9fa648f-6813-44c2-d636-1ac19872272b",
        "colab": {
          "base_uri": "https://localhost:8080/",
          "height": 34
        }
      },
      "source": [
        "# Type of ipl_df - Pandas data frame\n",
        "\n",
        "type(ipl_df)"
      ],
      "execution_count": 149,
      "outputs": [
        {
          "output_type": "execute_result",
          "data": {
            "text/plain": [
              "pandas.core.frame.DataFrame"
            ]
          },
          "metadata": {
            "tags": []
          },
          "execution_count": 149
        }
      ]
    },
    {
      "cell_type": "code",
      "metadata": {
        "colab_type": "code",
        "id": "yzMg03sv2KLe",
        "outputId": "6981b7da-7af2-4c02-ec46-577d32e1bbff",
        "colab": {
          "base_uri": "https://localhost:8080/",
          "height": 68
        }
      },
      "source": [
        "# Read csv file in pyarrow\n",
        "\n",
        "bf_time = datetime.now()\n",
        "ipl_arrow = csv.read_csv(file_loc)\n",
        "at_time = datetime.now()\n",
        "ex_time = execution_time(bf_time, at_time)"
      ],
      "execution_count": 150,
      "outputs": [
        {
          "output_type": "stream",
          "text": [
            "Before Execution - 2020-04-25 07:48:01.541524\n",
            "After Execution  - 2020-04-25 07:48:01.924795\n",
            "Execution time   - 0:00:00.383271\n"
          ],
          "name": "stdout"
        }
      ]
    },
    {
      "cell_type": "code",
      "metadata": {
        "colab_type": "code",
        "id": "rnG1YRLr23UP",
        "outputId": "ae4240e3-ba89-41e5-c0c1-31237893656d",
        "colab": {
          "base_uri": "https://localhost:8080/",
          "height": 34
        }
      },
      "source": [
        "# Type of ipl_arrow - Arrow Table\n",
        "\n",
        "type(ipl_arrow)"
      ],
      "execution_count": 151,
      "outputs": [
        {
          "output_type": "execute_result",
          "data": {
            "text/plain": [
              "pyarrow.lib.Table"
            ]
          },
          "metadata": {
            "tags": []
          },
          "execution_count": 151
        }
      ]
    },
    {
      "cell_type": "code",
      "metadata": {
        "colab_type": "code",
        "id": "4iKy1WbJ23Xt",
        "outputId": "45476bfd-78f0-4cb3-a48a-87fd11e1fa00",
        "colab": {
          "base_uri": "https://localhost:8080/",
          "height": 68
        }
      },
      "source": [
        "# File size\n",
        "\n",
        "print(f'File size in Bytes - {os.path.getsize(file_loc)}')\n",
        "print(f'File size in KB - {os.path.getsize(file_loc)/(1024):.2f}')\n",
        "print(f'File size in MB - {os.path.getsize(file_loc)/(1024*1024):.2f}')"
      ],
      "execution_count": 155,
      "outputs": [
        {
          "output_type": "stream",
          "text": [
            "File size in Bytes - 35142635\n",
            "File size in KB - 34318.98\n",
            "File size in MB - 33.51\n"
          ],
          "name": "stdout"
        }
      ]
    },
    {
      "cell_type": "code",
      "metadata": {
        "colab_type": "code",
        "id": "SRW9UmxdGOnb",
        "outputId": "f363496f-b933-4001-e29a-c4ce0716cca4",
        "colab": {
          "base_uri": "https://localhost:8080/",
          "height": 34
        }
      },
      "source": [
        "# System size of data frame\n",
        "\n",
        "sys.getsizeof(ipl_df), ipl_df.__sizeof__()"
      ],
      "execution_count": 156,
      "outputs": [
        {
          "output_type": "execute_result",
          "data": {
            "text/plain": [
              "(246863063, 246863039)"
            ]
          },
          "metadata": {
            "tags": []
          },
          "execution_count": 156
        }
      ]
    },
    {
      "cell_type": "code",
      "metadata": {
        "colab_type": "code",
        "id": "J3hDfRZV_4ES",
        "outputId": "6701123a-cd27-41b9-a6cc-c5f5861e85d3",
        "colab": {
          "base_uri": "https://localhost:8080/",
          "height": 34
        }
      },
      "source": [
        "# System size of arrow table\n",
        "\n",
        "sys.getsizeof(ipl_arrow), ipl_arrow.__sizeof__()"
      ],
      "execution_count": 157,
      "outputs": [
        {
          "output_type": "execute_result",
          "data": {
            "text/plain": [
              "(48, 48)"
            ]
          },
          "metadata": {
            "tags": []
          },
          "execution_count": 157
        }
      ]
    },
    {
      "cell_type": "code",
      "metadata": {
        "colab_type": "code",
        "id": "gYKv1Zb6G6NS",
        "outputId": "c877c5b9-a7d0-4ead-d2bb-616726536404",
        "colab": {
          "base_uri": "https://localhost:8080/",
          "height": 799
        }
      },
      "source": [
        "# Info of data frame\n",
        "\n",
        "ipl_df.info(memory_usage='deep')"
      ],
      "execution_count": 158,
      "outputs": [
        {
          "output_type": "stream",
          "text": [
            "<class 'pandas.core.frame.DataFrame'>\n",
            "RangeIndex: 179078 entries, 0 to 179077\n",
            "Data columns (total 39 columns):\n",
            " #   Column            Non-Null Count   Dtype \n",
            "---  ------            --------------   ----- \n",
            " 0   match_id          179078 non-null  int64 \n",
            " 1   inning            179078 non-null  int64 \n",
            " 2   batting_team      179078 non-null  object\n",
            " 3   bowling_team      179078 non-null  object\n",
            " 4   over              179078 non-null  int64 \n",
            " 5   ball              179078 non-null  int64 \n",
            " 6   batsman           179078 non-null  object\n",
            " 7   non_striker       179078 non-null  object\n",
            " 8   bowler            179078 non-null  object\n",
            " 9   is_super_over     179078 non-null  int64 \n",
            " 10  wide_runs         179078 non-null  int64 \n",
            " 11  bye_runs          179078 non-null  int64 \n",
            " 12  legbye_runs       179078 non-null  int64 \n",
            " 13  noball_runs       179078 non-null  int64 \n",
            " 14  penalty_runs      179078 non-null  int64 \n",
            " 15  batsman_runs      179078 non-null  int64 \n",
            " 16  extra_runs        179078 non-null  int64 \n",
            " 17  total_runs        179078 non-null  int64 \n",
            " 18  player_dismissed  8834 non-null    object\n",
            " 19  dismissal_kind    8834 non-null    object\n",
            " 20  fielder           6448 non-null    object\n",
            " 21  id                179078 non-null  int64 \n",
            " 22  season            179078 non-null  int64 \n",
            " 23  city              177378 non-null  object\n",
            " 24  date              179078 non-null  object\n",
            " 25  team1             179078 non-null  object\n",
            " 26  team2             179078 non-null  object\n",
            " 27  toss_winner       179078 non-null  object\n",
            " 28  toss_decision     179078 non-null  object\n",
            " 29  result            179078 non-null  object\n",
            " 30  dl_applied        179078 non-null  int64 \n",
            " 31  winner            178706 non-null  object\n",
            " 32  win_by_runs       179078 non-null  int64 \n",
            " 33  win_by_wickets    179078 non-null  int64 \n",
            " 34  player_of_match   178706 non-null  object\n",
            " 35  venue             179078 non-null  object\n",
            " 36  umpire1           178578 non-null  object\n",
            " 37  umpire2           178578 non-null  object\n",
            " 38  umpire3           28366 non-null   object\n",
            "dtypes: int64(18), object(21)\n",
            "memory usage: 235.4 MB\n"
          ],
          "name": "stdout"
        }
      ]
    },
    {
      "cell_type": "code",
      "metadata": {
        "colab_type": "code",
        "id": "PyHgHJo2DKUw",
        "outputId": "e867a310-52f6-4f4d-c574-71fe6b8f9ae4",
        "colab": {
          "base_uri": "https://localhost:8080/",
          "height": 680
        }
      },
      "source": [
        "# Schema of arrow table\n",
        "\n",
        "ipl_arrow.schema"
      ],
      "execution_count": 159,
      "outputs": [
        {
          "output_type": "execute_result",
          "data": {
            "text/plain": [
              "match_id: int64\n",
              "inning: int64\n",
              "batting_team: string\n",
              "bowling_team: string\n",
              "over: int64\n",
              "ball: int64\n",
              "batsman: string\n",
              "non_striker: string\n",
              "bowler: string\n",
              "is_super_over: int64\n",
              "wide_runs: int64\n",
              "bye_runs: int64\n",
              "legbye_runs: int64\n",
              "noball_runs: int64\n",
              "penalty_runs: int64\n",
              "batsman_runs: int64\n",
              "extra_runs: int64\n",
              "total_runs: int64\n",
              "player_dismissed: string\n",
              "dismissal_kind: string\n",
              "fielder: string\n",
              "id: int64\n",
              "season: int64\n",
              "city: string\n",
              "date: timestamp[s]\n",
              "team1: string\n",
              "team2: string\n",
              "toss_winner: string\n",
              "toss_decision: string\n",
              "result: string\n",
              "dl_applied: int64\n",
              "winner: string\n",
              "win_by_runs: int64\n",
              "win_by_wickets: int64\n",
              "player_of_match: string\n",
              "venue: string\n",
              "umpire1: string\n",
              "umpire2: string\n",
              "umpire3: string"
            ]
          },
          "metadata": {
            "tags": []
          },
          "execution_count": 159
        }
      ]
    },
    {
      "cell_type": "markdown",
      "metadata": {
        "id": "ZzR_DLR5WM3K",
        "colab_type": "text"
      },
      "source": [
        "### Datatype in Arrow Table\n",
        "\n",
        "- Apache arrow recognized the date column as time object.\n",
        "\n",
        "For datatype information, [Refer](https://arrow.apache.org/docs/python/api/datatypes.html)\n",
        "\n",
        "For Pandas datatype to Arrow table datatype, [Refer](https://arrow.apache.org/docs/python/pandas.html#pandas-arrow-conversion)\n",
        "\n"
      ]
    },
    {
      "cell_type": "code",
      "metadata": {
        "colab_type": "code",
        "id": "CBneF8eYDKq8",
        "outputId": "ee9fed9e-dc2d-41af-e72e-57e9bf0cd558",
        "colab": {
          "base_uri": "https://localhost:8080/",
          "height": 34
        }
      },
      "source": [
        "# Shape of both arrow table and dataframe\n",
        "\n",
        "ipl_arrow.shape, ipl_df.shape"
      ],
      "execution_count": 160,
      "outputs": [
        {
          "output_type": "execute_result",
          "data": {
            "text/plain": [
              "((179078, 39), (179078, 39))"
            ]
          },
          "metadata": {
            "tags": []
          },
          "execution_count": 160
        }
      ]
    },
    {
      "cell_type": "code",
      "metadata": {
        "colab_type": "code",
        "id": "Ffrl9K8xDKSk",
        "outputId": "b49a400f-9980-4d1a-a30e-6cc2cb6be533",
        "colab": {
          "base_uri": "https://localhost:8080/",
          "height": 34
        }
      },
      "source": [
        "# arrow table to dataframe\n",
        "\n",
        "ipl_arrow_df = ipl_arrow.to_pandas()\n",
        "type(ipl_arrow_df)"
      ],
      "execution_count": 161,
      "outputs": [
        {
          "output_type": "execute_result",
          "data": {
            "text/plain": [
              "pandas.core.frame.DataFrame"
            ]
          },
          "metadata": {
            "tags": []
          },
          "execution_count": 161
        }
      ]
    },
    {
      "cell_type": "code",
      "metadata": {
        "colab_type": "code",
        "id": "J90NKeekJ4h0",
        "outputId": "d9a94f55-81a4-486b-dd80-1e09d9b17b58",
        "colab": {
          "base_uri": "https://localhost:8080/",
          "height": 799
        }
      },
      "source": [
        "# Info of converted data frame\n",
        "\n",
        "ipl_arrow_df.info(memory_usage='deep')"
      ],
      "execution_count": 162,
      "outputs": [
        {
          "output_type": "stream",
          "text": [
            "<class 'pandas.core.frame.DataFrame'>\n",
            "RangeIndex: 179078 entries, 0 to 179077\n",
            "Data columns (total 39 columns):\n",
            " #   Column            Non-Null Count   Dtype         \n",
            "---  ------            --------------   -----         \n",
            " 0   match_id          179078 non-null  int64         \n",
            " 1   inning            179078 non-null  int64         \n",
            " 2   batting_team      179078 non-null  object        \n",
            " 3   bowling_team      179078 non-null  object        \n",
            " 4   over              179078 non-null  int64         \n",
            " 5   ball              179078 non-null  int64         \n",
            " 6   batsman           179078 non-null  object        \n",
            " 7   non_striker       179078 non-null  object        \n",
            " 8   bowler            179078 non-null  object        \n",
            " 9   is_super_over     179078 non-null  int64         \n",
            " 10  wide_runs         179078 non-null  int64         \n",
            " 11  bye_runs          179078 non-null  int64         \n",
            " 12  legbye_runs       179078 non-null  int64         \n",
            " 13  noball_runs       179078 non-null  int64         \n",
            " 14  penalty_runs      179078 non-null  int64         \n",
            " 15  batsman_runs      179078 non-null  int64         \n",
            " 16  extra_runs        179078 non-null  int64         \n",
            " 17  total_runs        179078 non-null  int64         \n",
            " 18  player_dismissed  179078 non-null  object        \n",
            " 19  dismissal_kind    179078 non-null  object        \n",
            " 20  fielder           179078 non-null  object        \n",
            " 21  id                179078 non-null  int64         \n",
            " 22  season            179078 non-null  int64         \n",
            " 23  city              179078 non-null  object        \n",
            " 24  date              179078 non-null  datetime64[ns]\n",
            " 25  team1             179078 non-null  object        \n",
            " 26  team2             179078 non-null  object        \n",
            " 27  toss_winner       179078 non-null  object        \n",
            " 28  toss_decision     179078 non-null  object        \n",
            " 29  result            179078 non-null  object        \n",
            " 30  dl_applied        179078 non-null  int64         \n",
            " 31  winner            179078 non-null  object        \n",
            " 32  win_by_runs       179078 non-null  int64         \n",
            " 33  win_by_wickets    179078 non-null  int64         \n",
            " 34  player_of_match   179078 non-null  object        \n",
            " 35  venue             179078 non-null  object        \n",
            " 36  umpire1           179078 non-null  object        \n",
            " 37  umpire2           179078 non-null  object        \n",
            " 38  umpire3           179078 non-null  object        \n",
            "dtypes: datetime64[ns](1), int64(18), object(20)\n",
            "memory usage: 243.8 MB\n"
          ],
          "name": "stdout"
        }
      ]
    },
    {
      "cell_type": "markdown",
      "metadata": {
        "colab_type": "text",
        "id": "2wRT1ebZKPI2"
      },
      "source": [
        "\n",
        "### Null in Apache arrow\n",
        "\n",
        "**By default**, when converting CSV to a string column, all CSV values are considered valid.\n",
        "\n",
        "[Reference1](https://github.com/apache/arrow/issues/4184)\n",
        "\n",
        "[Reference2](https://issues.apache.org/jira/browse/ARROW-5195) "
      ]
    },
    {
      "cell_type": "code",
      "metadata": {
        "colab_type": "code",
        "id": "mm_wiuXvNzzo",
        "outputId": "88da9ac3-d29f-404f-bef5-941d50855cb9",
        "colab": {
          "base_uri": "https://localhost:8080/",
          "height": 34
        }
      },
      "source": [
        "# Null count in a column\n",
        "\n",
        "ipl_arrow.column('umpire3').null_count"
      ],
      "execution_count": 163,
      "outputs": [
        {
          "output_type": "execute_result",
          "data": {
            "text/plain": [
              "0"
            ]
          },
          "metadata": {
            "tags": []
          },
          "execution_count": 163
        }
      ]
    },
    {
      "cell_type": "code",
      "metadata": {
        "id": "pi5h9yIHX7hH",
        "colab_type": "code",
        "colab": {
          "base_uri": "https://localhost:8080/",
          "height": 187
        },
        "outputId": "e255ff30-3653-4ced-e319-b0383024df81"
      },
      "source": [
        "# Top 5 in umpire3 from Arrow table\n",
        "\n",
        "ipl_arrow.column('umpire3')[0:5]"
      ],
      "execution_count": 164,
      "outputs": [
        {
          "output_type": "execute_result",
          "data": {
            "text/plain": [
              "<pyarrow.lib.ChunkedArray object at 0x7fe452b51360>\n",
              "[\n",
              "  [\n",
              "    \"\",\n",
              "    \"\",\n",
              "    \"\",\n",
              "    \"\",\n",
              "    \"\"\n",
              "  ]\n",
              "]"
            ]
          },
          "metadata": {
            "tags": []
          },
          "execution_count": 164
        }
      ]
    },
    {
      "cell_type": "code",
      "metadata": {
        "id": "vR_-sHdVYEYj",
        "colab_type": "code",
        "colab": {
          "base_uri": "https://localhost:8080/",
          "height": 119
        },
        "outputId": "c8a4298f-3f04-4e62-985d-05d72dc65781"
      },
      "source": [
        "# Top 5 in umpire3 from pandas dataframe\n",
        "\n",
        "ipl_df.umpire3.head()"
      ],
      "execution_count": 165,
      "outputs": [
        {
          "output_type": "execute_result",
          "data": {
            "text/plain": [
              "0    NaN\n",
              "1    NaN\n",
              "2    NaN\n",
              "3    NaN\n",
              "4    NaN\n",
              "Name: umpire3, dtype: object"
            ]
          },
          "metadata": {
            "tags": []
          },
          "execution_count": 165
        }
      ]
    },
    {
      "cell_type": "code",
      "metadata": {
        "colab_type": "code",
        "id": "5XZE0N0iKAle",
        "colab": {}
      },
      "source": [
        "csv.read_csv?"
      ],
      "execution_count": 0,
      "outputs": []
    },
    {
      "cell_type": "code",
      "metadata": {
        "colab_type": "code",
        "id": "KejMP0d9KkDm",
        "colab": {}
      },
      "source": [
        "csv.ConvertOptions?"
      ],
      "execution_count": 0,
      "outputs": []
    },
    {
      "cell_type": "code",
      "metadata": {
        "colab_type": "code",
        "id": "rcWXb-FqKkIZ",
        "outputId": "184977e4-475f-42a3-b7d6-a2be4efa7e0c",
        "colab": {
          "base_uri": "https://localhost:8080/",
          "height": 68
        }
      },
      "source": [
        "# Convert Options in Apache Arrow Table\n",
        "\n",
        "co = csv.ConvertOptions(strings_can_be_null=True)\n",
        "\n",
        "bf_time = datetime.now()\n",
        "ipl_arrow2 = csv.read_csv(file_loc, convert_options=co)\n",
        "at_time = datetime.now()\n",
        "ex_time = execution_time(bf_time, at_time)\n"
      ],
      "execution_count": 168,
      "outputs": [
        {
          "output_type": "stream",
          "text": [
            "Before Execution - 2020-04-25 07:50:55.863457\n",
            "After Execution  - 2020-04-25 07:50:56.234192\n",
            "Execution time   - 0:00:00.370735\n"
          ],
          "name": "stdout"
        }
      ]
    },
    {
      "cell_type": "code",
      "metadata": {
        "colab_type": "code",
        "id": "hn7ICMZpOlR1",
        "outputId": "553cb220-245f-4b11-c689-5404924a3088",
        "colab": {
          "base_uri": "https://localhost:8080/",
          "height": 34
        }
      },
      "source": [
        "# Null count in umpire3 from Arrow table\n",
        "\n",
        "ipl_arrow2.column('umpire3').null_count"
      ],
      "execution_count": 169,
      "outputs": [
        {
          "output_type": "execute_result",
          "data": {
            "text/plain": [
              "150712"
            ]
          },
          "metadata": {
            "tags": []
          },
          "execution_count": 169
        }
      ]
    },
    {
      "cell_type": "code",
      "metadata": {
        "id": "yOWWqEZvYhSI",
        "colab_type": "code",
        "colab": {
          "base_uri": "https://localhost:8080/",
          "height": 34
        },
        "outputId": "fcb2d1fd-6dfe-4014-b815-924c7b749188"
      },
      "source": [
        "# Null/Nan count in umpire3 from Pandas dataframe\n",
        "\n",
        "ipl_df.umpire3.isna().sum()"
      ],
      "execution_count": 170,
      "outputs": [
        {
          "output_type": "execute_result",
          "data": {
            "text/plain": [
              "150712"
            ]
          },
          "metadata": {
            "tags": []
          },
          "execution_count": 170
        }
      ]
    },
    {
      "cell_type": "code",
      "metadata": {
        "colab_type": "code",
        "id": "WRGV3t8DKkLP",
        "colab": {}
      },
      "source": [
        "# Arrow table to pandas dataframe\n",
        "\n",
        "ipl_arrow_df2 = ipl_arrow2.to_pandas()"
      ],
      "execution_count": 0,
      "outputs": []
    },
    {
      "cell_type": "code",
      "metadata": {
        "colab_type": "code",
        "id": "HRxb21D2KkOf",
        "outputId": "abd43b52-7b4f-44da-f744-aa971b03a8bb",
        "colab": {
          "base_uri": "https://localhost:8080/",
          "height": 799
        }
      },
      "source": [
        "# Info of ipl_arrow_df2\n",
        "\n",
        "ipl_arrow_df2.info(memory_usage='deep')"
      ],
      "execution_count": 172,
      "outputs": [
        {
          "output_type": "stream",
          "text": [
            "<class 'pandas.core.frame.DataFrame'>\n",
            "RangeIndex: 179078 entries, 0 to 179077\n",
            "Data columns (total 39 columns):\n",
            " #   Column            Non-Null Count   Dtype         \n",
            "---  ------            --------------   -----         \n",
            " 0   match_id          179078 non-null  int64         \n",
            " 1   inning            179078 non-null  int64         \n",
            " 2   batting_team      179078 non-null  object        \n",
            " 3   bowling_team      179078 non-null  object        \n",
            " 4   over              179078 non-null  int64         \n",
            " 5   ball              179078 non-null  int64         \n",
            " 6   batsman           179078 non-null  object        \n",
            " 7   non_striker       179078 non-null  object        \n",
            " 8   bowler            179078 non-null  object        \n",
            " 9   is_super_over     179078 non-null  int64         \n",
            " 10  wide_runs         179078 non-null  int64         \n",
            " 11  bye_runs          179078 non-null  int64         \n",
            " 12  legbye_runs       179078 non-null  int64         \n",
            " 13  noball_runs       179078 non-null  int64         \n",
            " 14  penalty_runs      179078 non-null  int64         \n",
            " 15  batsman_runs      179078 non-null  int64         \n",
            " 16  extra_runs        179078 non-null  int64         \n",
            " 17  total_runs        179078 non-null  int64         \n",
            " 18  player_dismissed  8834 non-null    object        \n",
            " 19  dismissal_kind    8834 non-null    object        \n",
            " 20  fielder           6448 non-null    object        \n",
            " 21  id                179078 non-null  int64         \n",
            " 22  season            179078 non-null  int64         \n",
            " 23  city              177378 non-null  object        \n",
            " 24  date              179078 non-null  datetime64[ns]\n",
            " 25  team1             179078 non-null  object        \n",
            " 26  team2             179078 non-null  object        \n",
            " 27  toss_winner       179078 non-null  object        \n",
            " 28  toss_decision     179078 non-null  object        \n",
            " 29  result            179078 non-null  object        \n",
            " 30  dl_applied        179078 non-null  int64         \n",
            " 31  winner            178706 non-null  object        \n",
            " 32  win_by_runs       179078 non-null  int64         \n",
            " 33  win_by_wickets    179078 non-null  int64         \n",
            " 34  player_of_match   178706 non-null  object        \n",
            " 35  venue             179078 non-null  object        \n",
            " 36  umpire1           178578 non-null  object        \n",
            " 37  umpire2           178578 non-null  object        \n",
            " 38  umpire3           28366 non-null   object        \n",
            "dtypes: datetime64[ns](1), int64(18), object(20)\n",
            "memory usage: 220.3 MB\n"
          ],
          "name": "stdout"
        }
      ]
    },
    {
      "cell_type": "code",
      "metadata": {
        "colab_type": "code",
        "id": "FuqB_UF4KkRo",
        "outputId": "05bdf9b5-c693-4278-c110-52c3ad24dce4",
        "colab": {
          "base_uri": "https://localhost:8080/",
          "height": 799
        }
      },
      "source": [
        "# Convert date column to datetime object\n",
        "\n",
        "ipl_df = ipl_df.astype({'date': 'datetime64[ns]'})\n",
        "ipl_df.info(memory_usage='deep')"
      ],
      "execution_count": 173,
      "outputs": [
        {
          "output_type": "stream",
          "text": [
            "<class 'pandas.core.frame.DataFrame'>\n",
            "RangeIndex: 179078 entries, 0 to 179077\n",
            "Data columns (total 39 columns):\n",
            " #   Column            Non-Null Count   Dtype         \n",
            "---  ------            --------------   -----         \n",
            " 0   match_id          179078 non-null  int64         \n",
            " 1   inning            179078 non-null  int64         \n",
            " 2   batting_team      179078 non-null  object        \n",
            " 3   bowling_team      179078 non-null  object        \n",
            " 4   over              179078 non-null  int64         \n",
            " 5   ball              179078 non-null  int64         \n",
            " 6   batsman           179078 non-null  object        \n",
            " 7   non_striker       179078 non-null  object        \n",
            " 8   bowler            179078 non-null  object        \n",
            " 9   is_super_over     179078 non-null  int64         \n",
            " 10  wide_runs         179078 non-null  int64         \n",
            " 11  bye_runs          179078 non-null  int64         \n",
            " 12  legbye_runs       179078 non-null  int64         \n",
            " 13  noball_runs       179078 non-null  int64         \n",
            " 14  penalty_runs      179078 non-null  int64         \n",
            " 15  batsman_runs      179078 non-null  int64         \n",
            " 16  extra_runs        179078 non-null  int64         \n",
            " 17  total_runs        179078 non-null  int64         \n",
            " 18  player_dismissed  8834 non-null    object        \n",
            " 19  dismissal_kind    8834 non-null    object        \n",
            " 20  fielder           6448 non-null    object        \n",
            " 21  id                179078 non-null  int64         \n",
            " 22  season            179078 non-null  int64         \n",
            " 23  city              177378 non-null  object        \n",
            " 24  date              179078 non-null  datetime64[ns]\n",
            " 25  team1             179078 non-null  object        \n",
            " 26  team2             179078 non-null  object        \n",
            " 27  toss_winner       179078 non-null  object        \n",
            " 28  toss_decision     179078 non-null  object        \n",
            " 29  result            179078 non-null  object        \n",
            " 30  dl_applied        179078 non-null  int64         \n",
            " 31  winner            178706 non-null  object        \n",
            " 32  win_by_runs       179078 non-null  int64         \n",
            " 33  win_by_wickets    179078 non-null  int64         \n",
            " 34  player_of_match   178706 non-null  object        \n",
            " 35  venue             179078 non-null  object        \n",
            " 36  umpire1           178578 non-null  object        \n",
            " 37  umpire2           178578 non-null  object        \n",
            " 38  umpire3           28366 non-null   object        \n",
            "dtypes: datetime64[ns](1), int64(18), object(20)\n",
            "memory usage: 225.4 MB\n"
          ],
          "name": "stdout"
        }
      ]
    },
    {
      "cell_type": "code",
      "metadata": {
        "colab_type": "code",
        "id": "M0UvSYGQMb0g",
        "outputId": "237137ae-1d9e-4719-b674-0beee9419401",
        "colab": {
          "base_uri": "https://localhost:8080/",
          "height": 564
        }
      },
      "source": [
        "# Glimpse of ipl_df\n",
        "\n",
        "ipl_df.head()"
      ],
      "execution_count": 174,
      "outputs": [
        {
          "output_type": "execute_result",
          "data": {
            "text/html": [
              "<div>\n",
              "<style scoped>\n",
              "    .dataframe tbody tr th:only-of-type {\n",
              "        vertical-align: middle;\n",
              "    }\n",
              "\n",
              "    .dataframe tbody tr th {\n",
              "        vertical-align: top;\n",
              "    }\n",
              "\n",
              "    .dataframe thead th {\n",
              "        text-align: right;\n",
              "    }\n",
              "</style>\n",
              "<table border=\"1\" class=\"dataframe\">\n",
              "  <thead>\n",
              "    <tr style=\"text-align: right;\">\n",
              "      <th></th>\n",
              "      <th>match_id</th>\n",
              "      <th>inning</th>\n",
              "      <th>batting_team</th>\n",
              "      <th>bowling_team</th>\n",
              "      <th>over</th>\n",
              "      <th>ball</th>\n",
              "      <th>batsman</th>\n",
              "      <th>non_striker</th>\n",
              "      <th>bowler</th>\n",
              "      <th>is_super_over</th>\n",
              "      <th>wide_runs</th>\n",
              "      <th>bye_runs</th>\n",
              "      <th>legbye_runs</th>\n",
              "      <th>noball_runs</th>\n",
              "      <th>penalty_runs</th>\n",
              "      <th>batsman_runs</th>\n",
              "      <th>extra_runs</th>\n",
              "      <th>total_runs</th>\n",
              "      <th>player_dismissed</th>\n",
              "      <th>dismissal_kind</th>\n",
              "      <th>fielder</th>\n",
              "      <th>id</th>\n",
              "      <th>season</th>\n",
              "      <th>city</th>\n",
              "      <th>date</th>\n",
              "      <th>team1</th>\n",
              "      <th>team2</th>\n",
              "      <th>toss_winner</th>\n",
              "      <th>toss_decision</th>\n",
              "      <th>result</th>\n",
              "      <th>dl_applied</th>\n",
              "      <th>winner</th>\n",
              "      <th>win_by_runs</th>\n",
              "      <th>win_by_wickets</th>\n",
              "      <th>player_of_match</th>\n",
              "      <th>venue</th>\n",
              "      <th>umpire1</th>\n",
              "      <th>umpire2</th>\n",
              "      <th>umpire3</th>\n",
              "    </tr>\n",
              "  </thead>\n",
              "  <tbody>\n",
              "    <tr>\n",
              "      <th>0</th>\n",
              "      <td>1</td>\n",
              "      <td>1</td>\n",
              "      <td>SRH</td>\n",
              "      <td>RCB</td>\n",
              "      <td>1</td>\n",
              "      <td>1</td>\n",
              "      <td>DA Warner</td>\n",
              "      <td>S Dhawan</td>\n",
              "      <td>TS Mills</td>\n",
              "      <td>0</td>\n",
              "      <td>0</td>\n",
              "      <td>0</td>\n",
              "      <td>0</td>\n",
              "      <td>0</td>\n",
              "      <td>0</td>\n",
              "      <td>0</td>\n",
              "      <td>0</td>\n",
              "      <td>0</td>\n",
              "      <td>NaN</td>\n",
              "      <td>NaN</td>\n",
              "      <td>NaN</td>\n",
              "      <td>1</td>\n",
              "      <td>2017</td>\n",
              "      <td>Hyderabad</td>\n",
              "      <td>2017-04-05</td>\n",
              "      <td>SRH</td>\n",
              "      <td>RCB</td>\n",
              "      <td>RCB</td>\n",
              "      <td>field</td>\n",
              "      <td>normal</td>\n",
              "      <td>0</td>\n",
              "      <td>SRH</td>\n",
              "      <td>35</td>\n",
              "      <td>0</td>\n",
              "      <td>Yuvraj Singh</td>\n",
              "      <td>Rajiv Gandhi International Stadium, Uppal</td>\n",
              "      <td>AY Dandekar</td>\n",
              "      <td>NJ Llong</td>\n",
              "      <td>NaN</td>\n",
              "    </tr>\n",
              "    <tr>\n",
              "      <th>1</th>\n",
              "      <td>1</td>\n",
              "      <td>1</td>\n",
              "      <td>SRH</td>\n",
              "      <td>RCB</td>\n",
              "      <td>1</td>\n",
              "      <td>2</td>\n",
              "      <td>DA Warner</td>\n",
              "      <td>S Dhawan</td>\n",
              "      <td>TS Mills</td>\n",
              "      <td>0</td>\n",
              "      <td>0</td>\n",
              "      <td>0</td>\n",
              "      <td>0</td>\n",
              "      <td>0</td>\n",
              "      <td>0</td>\n",
              "      <td>0</td>\n",
              "      <td>0</td>\n",
              "      <td>0</td>\n",
              "      <td>NaN</td>\n",
              "      <td>NaN</td>\n",
              "      <td>NaN</td>\n",
              "      <td>1</td>\n",
              "      <td>2017</td>\n",
              "      <td>Hyderabad</td>\n",
              "      <td>2017-04-05</td>\n",
              "      <td>SRH</td>\n",
              "      <td>RCB</td>\n",
              "      <td>RCB</td>\n",
              "      <td>field</td>\n",
              "      <td>normal</td>\n",
              "      <td>0</td>\n",
              "      <td>SRH</td>\n",
              "      <td>35</td>\n",
              "      <td>0</td>\n",
              "      <td>Yuvraj Singh</td>\n",
              "      <td>Rajiv Gandhi International Stadium, Uppal</td>\n",
              "      <td>AY Dandekar</td>\n",
              "      <td>NJ Llong</td>\n",
              "      <td>NaN</td>\n",
              "    </tr>\n",
              "    <tr>\n",
              "      <th>2</th>\n",
              "      <td>1</td>\n",
              "      <td>1</td>\n",
              "      <td>SRH</td>\n",
              "      <td>RCB</td>\n",
              "      <td>1</td>\n",
              "      <td>3</td>\n",
              "      <td>DA Warner</td>\n",
              "      <td>S Dhawan</td>\n",
              "      <td>TS Mills</td>\n",
              "      <td>0</td>\n",
              "      <td>0</td>\n",
              "      <td>0</td>\n",
              "      <td>0</td>\n",
              "      <td>0</td>\n",
              "      <td>0</td>\n",
              "      <td>4</td>\n",
              "      <td>0</td>\n",
              "      <td>4</td>\n",
              "      <td>NaN</td>\n",
              "      <td>NaN</td>\n",
              "      <td>NaN</td>\n",
              "      <td>1</td>\n",
              "      <td>2017</td>\n",
              "      <td>Hyderabad</td>\n",
              "      <td>2017-04-05</td>\n",
              "      <td>SRH</td>\n",
              "      <td>RCB</td>\n",
              "      <td>RCB</td>\n",
              "      <td>field</td>\n",
              "      <td>normal</td>\n",
              "      <td>0</td>\n",
              "      <td>SRH</td>\n",
              "      <td>35</td>\n",
              "      <td>0</td>\n",
              "      <td>Yuvraj Singh</td>\n",
              "      <td>Rajiv Gandhi International Stadium, Uppal</td>\n",
              "      <td>AY Dandekar</td>\n",
              "      <td>NJ Llong</td>\n",
              "      <td>NaN</td>\n",
              "    </tr>\n",
              "    <tr>\n",
              "      <th>3</th>\n",
              "      <td>1</td>\n",
              "      <td>1</td>\n",
              "      <td>SRH</td>\n",
              "      <td>RCB</td>\n",
              "      <td>1</td>\n",
              "      <td>4</td>\n",
              "      <td>DA Warner</td>\n",
              "      <td>S Dhawan</td>\n",
              "      <td>TS Mills</td>\n",
              "      <td>0</td>\n",
              "      <td>0</td>\n",
              "      <td>0</td>\n",
              "      <td>0</td>\n",
              "      <td>0</td>\n",
              "      <td>0</td>\n",
              "      <td>0</td>\n",
              "      <td>0</td>\n",
              "      <td>0</td>\n",
              "      <td>NaN</td>\n",
              "      <td>NaN</td>\n",
              "      <td>NaN</td>\n",
              "      <td>1</td>\n",
              "      <td>2017</td>\n",
              "      <td>Hyderabad</td>\n",
              "      <td>2017-04-05</td>\n",
              "      <td>SRH</td>\n",
              "      <td>RCB</td>\n",
              "      <td>RCB</td>\n",
              "      <td>field</td>\n",
              "      <td>normal</td>\n",
              "      <td>0</td>\n",
              "      <td>SRH</td>\n",
              "      <td>35</td>\n",
              "      <td>0</td>\n",
              "      <td>Yuvraj Singh</td>\n",
              "      <td>Rajiv Gandhi International Stadium, Uppal</td>\n",
              "      <td>AY Dandekar</td>\n",
              "      <td>NJ Llong</td>\n",
              "      <td>NaN</td>\n",
              "    </tr>\n",
              "    <tr>\n",
              "      <th>4</th>\n",
              "      <td>1</td>\n",
              "      <td>1</td>\n",
              "      <td>SRH</td>\n",
              "      <td>RCB</td>\n",
              "      <td>1</td>\n",
              "      <td>5</td>\n",
              "      <td>DA Warner</td>\n",
              "      <td>S Dhawan</td>\n",
              "      <td>TS Mills</td>\n",
              "      <td>0</td>\n",
              "      <td>2</td>\n",
              "      <td>0</td>\n",
              "      <td>0</td>\n",
              "      <td>0</td>\n",
              "      <td>0</td>\n",
              "      <td>0</td>\n",
              "      <td>2</td>\n",
              "      <td>2</td>\n",
              "      <td>NaN</td>\n",
              "      <td>NaN</td>\n",
              "      <td>NaN</td>\n",
              "      <td>1</td>\n",
              "      <td>2017</td>\n",
              "      <td>Hyderabad</td>\n",
              "      <td>2017-04-05</td>\n",
              "      <td>SRH</td>\n",
              "      <td>RCB</td>\n",
              "      <td>RCB</td>\n",
              "      <td>field</td>\n",
              "      <td>normal</td>\n",
              "      <td>0</td>\n",
              "      <td>SRH</td>\n",
              "      <td>35</td>\n",
              "      <td>0</td>\n",
              "      <td>Yuvraj Singh</td>\n",
              "      <td>Rajiv Gandhi International Stadium, Uppal</td>\n",
              "      <td>AY Dandekar</td>\n",
              "      <td>NJ Llong</td>\n",
              "      <td>NaN</td>\n",
              "    </tr>\n",
              "  </tbody>\n",
              "</table>\n",
              "</div>"
            ],
            "text/plain": [
              "   match_id  inning batting_team  ...      umpire1   umpire2  umpire3\n",
              "0         1       1          SRH  ...  AY Dandekar  NJ Llong      NaN\n",
              "1         1       1          SRH  ...  AY Dandekar  NJ Llong      NaN\n",
              "2         1       1          SRH  ...  AY Dandekar  NJ Llong      NaN\n",
              "3         1       1          SRH  ...  AY Dandekar  NJ Llong      NaN\n",
              "4         1       1          SRH  ...  AY Dandekar  NJ Llong      NaN\n",
              "\n",
              "[5 rows x 39 columns]"
            ]
          },
          "metadata": {
            "tags": []
          },
          "execution_count": 174
        }
      ]
    },
    {
      "cell_type": "code",
      "metadata": {
        "colab_type": "code",
        "id": "hwYQosOXMbcl",
        "outputId": "cf12fc61-fcdc-4338-8de6-881730116acf",
        "colab": {
          "base_uri": "https://localhost:8080/",
          "height": 564
        }
      },
      "source": [
        "# Glimpse of ipl_arrow_df2\n",
        "\n",
        "ipl_arrow_df2.head()"
      ],
      "execution_count": 175,
      "outputs": [
        {
          "output_type": "execute_result",
          "data": {
            "text/html": [
              "<div>\n",
              "<style scoped>\n",
              "    .dataframe tbody tr th:only-of-type {\n",
              "        vertical-align: middle;\n",
              "    }\n",
              "\n",
              "    .dataframe tbody tr th {\n",
              "        vertical-align: top;\n",
              "    }\n",
              "\n",
              "    .dataframe thead th {\n",
              "        text-align: right;\n",
              "    }\n",
              "</style>\n",
              "<table border=\"1\" class=\"dataframe\">\n",
              "  <thead>\n",
              "    <tr style=\"text-align: right;\">\n",
              "      <th></th>\n",
              "      <th>match_id</th>\n",
              "      <th>inning</th>\n",
              "      <th>batting_team</th>\n",
              "      <th>bowling_team</th>\n",
              "      <th>over</th>\n",
              "      <th>ball</th>\n",
              "      <th>batsman</th>\n",
              "      <th>non_striker</th>\n",
              "      <th>bowler</th>\n",
              "      <th>is_super_over</th>\n",
              "      <th>wide_runs</th>\n",
              "      <th>bye_runs</th>\n",
              "      <th>legbye_runs</th>\n",
              "      <th>noball_runs</th>\n",
              "      <th>penalty_runs</th>\n",
              "      <th>batsman_runs</th>\n",
              "      <th>extra_runs</th>\n",
              "      <th>total_runs</th>\n",
              "      <th>player_dismissed</th>\n",
              "      <th>dismissal_kind</th>\n",
              "      <th>fielder</th>\n",
              "      <th>id</th>\n",
              "      <th>season</th>\n",
              "      <th>city</th>\n",
              "      <th>date</th>\n",
              "      <th>team1</th>\n",
              "      <th>team2</th>\n",
              "      <th>toss_winner</th>\n",
              "      <th>toss_decision</th>\n",
              "      <th>result</th>\n",
              "      <th>dl_applied</th>\n",
              "      <th>winner</th>\n",
              "      <th>win_by_runs</th>\n",
              "      <th>win_by_wickets</th>\n",
              "      <th>player_of_match</th>\n",
              "      <th>venue</th>\n",
              "      <th>umpire1</th>\n",
              "      <th>umpire2</th>\n",
              "      <th>umpire3</th>\n",
              "    </tr>\n",
              "  </thead>\n",
              "  <tbody>\n",
              "    <tr>\n",
              "      <th>0</th>\n",
              "      <td>1</td>\n",
              "      <td>1</td>\n",
              "      <td>SRH</td>\n",
              "      <td>RCB</td>\n",
              "      <td>1</td>\n",
              "      <td>1</td>\n",
              "      <td>DA Warner</td>\n",
              "      <td>S Dhawan</td>\n",
              "      <td>TS Mills</td>\n",
              "      <td>0</td>\n",
              "      <td>0</td>\n",
              "      <td>0</td>\n",
              "      <td>0</td>\n",
              "      <td>0</td>\n",
              "      <td>0</td>\n",
              "      <td>0</td>\n",
              "      <td>0</td>\n",
              "      <td>0</td>\n",
              "      <td>None</td>\n",
              "      <td>None</td>\n",
              "      <td>None</td>\n",
              "      <td>1</td>\n",
              "      <td>2017</td>\n",
              "      <td>Hyderabad</td>\n",
              "      <td>2017-04-05</td>\n",
              "      <td>SRH</td>\n",
              "      <td>RCB</td>\n",
              "      <td>RCB</td>\n",
              "      <td>field</td>\n",
              "      <td>normal</td>\n",
              "      <td>0</td>\n",
              "      <td>SRH</td>\n",
              "      <td>35</td>\n",
              "      <td>0</td>\n",
              "      <td>Yuvraj Singh</td>\n",
              "      <td>Rajiv Gandhi International Stadium, Uppal</td>\n",
              "      <td>AY Dandekar</td>\n",
              "      <td>NJ Llong</td>\n",
              "      <td>None</td>\n",
              "    </tr>\n",
              "    <tr>\n",
              "      <th>1</th>\n",
              "      <td>1</td>\n",
              "      <td>1</td>\n",
              "      <td>SRH</td>\n",
              "      <td>RCB</td>\n",
              "      <td>1</td>\n",
              "      <td>2</td>\n",
              "      <td>DA Warner</td>\n",
              "      <td>S Dhawan</td>\n",
              "      <td>TS Mills</td>\n",
              "      <td>0</td>\n",
              "      <td>0</td>\n",
              "      <td>0</td>\n",
              "      <td>0</td>\n",
              "      <td>0</td>\n",
              "      <td>0</td>\n",
              "      <td>0</td>\n",
              "      <td>0</td>\n",
              "      <td>0</td>\n",
              "      <td>None</td>\n",
              "      <td>None</td>\n",
              "      <td>None</td>\n",
              "      <td>1</td>\n",
              "      <td>2017</td>\n",
              "      <td>Hyderabad</td>\n",
              "      <td>2017-04-05</td>\n",
              "      <td>SRH</td>\n",
              "      <td>RCB</td>\n",
              "      <td>RCB</td>\n",
              "      <td>field</td>\n",
              "      <td>normal</td>\n",
              "      <td>0</td>\n",
              "      <td>SRH</td>\n",
              "      <td>35</td>\n",
              "      <td>0</td>\n",
              "      <td>Yuvraj Singh</td>\n",
              "      <td>Rajiv Gandhi International Stadium, Uppal</td>\n",
              "      <td>AY Dandekar</td>\n",
              "      <td>NJ Llong</td>\n",
              "      <td>None</td>\n",
              "    </tr>\n",
              "    <tr>\n",
              "      <th>2</th>\n",
              "      <td>1</td>\n",
              "      <td>1</td>\n",
              "      <td>SRH</td>\n",
              "      <td>RCB</td>\n",
              "      <td>1</td>\n",
              "      <td>3</td>\n",
              "      <td>DA Warner</td>\n",
              "      <td>S Dhawan</td>\n",
              "      <td>TS Mills</td>\n",
              "      <td>0</td>\n",
              "      <td>0</td>\n",
              "      <td>0</td>\n",
              "      <td>0</td>\n",
              "      <td>0</td>\n",
              "      <td>0</td>\n",
              "      <td>4</td>\n",
              "      <td>0</td>\n",
              "      <td>4</td>\n",
              "      <td>None</td>\n",
              "      <td>None</td>\n",
              "      <td>None</td>\n",
              "      <td>1</td>\n",
              "      <td>2017</td>\n",
              "      <td>Hyderabad</td>\n",
              "      <td>2017-04-05</td>\n",
              "      <td>SRH</td>\n",
              "      <td>RCB</td>\n",
              "      <td>RCB</td>\n",
              "      <td>field</td>\n",
              "      <td>normal</td>\n",
              "      <td>0</td>\n",
              "      <td>SRH</td>\n",
              "      <td>35</td>\n",
              "      <td>0</td>\n",
              "      <td>Yuvraj Singh</td>\n",
              "      <td>Rajiv Gandhi International Stadium, Uppal</td>\n",
              "      <td>AY Dandekar</td>\n",
              "      <td>NJ Llong</td>\n",
              "      <td>None</td>\n",
              "    </tr>\n",
              "    <tr>\n",
              "      <th>3</th>\n",
              "      <td>1</td>\n",
              "      <td>1</td>\n",
              "      <td>SRH</td>\n",
              "      <td>RCB</td>\n",
              "      <td>1</td>\n",
              "      <td>4</td>\n",
              "      <td>DA Warner</td>\n",
              "      <td>S Dhawan</td>\n",
              "      <td>TS Mills</td>\n",
              "      <td>0</td>\n",
              "      <td>0</td>\n",
              "      <td>0</td>\n",
              "      <td>0</td>\n",
              "      <td>0</td>\n",
              "      <td>0</td>\n",
              "      <td>0</td>\n",
              "      <td>0</td>\n",
              "      <td>0</td>\n",
              "      <td>None</td>\n",
              "      <td>None</td>\n",
              "      <td>None</td>\n",
              "      <td>1</td>\n",
              "      <td>2017</td>\n",
              "      <td>Hyderabad</td>\n",
              "      <td>2017-04-05</td>\n",
              "      <td>SRH</td>\n",
              "      <td>RCB</td>\n",
              "      <td>RCB</td>\n",
              "      <td>field</td>\n",
              "      <td>normal</td>\n",
              "      <td>0</td>\n",
              "      <td>SRH</td>\n",
              "      <td>35</td>\n",
              "      <td>0</td>\n",
              "      <td>Yuvraj Singh</td>\n",
              "      <td>Rajiv Gandhi International Stadium, Uppal</td>\n",
              "      <td>AY Dandekar</td>\n",
              "      <td>NJ Llong</td>\n",
              "      <td>None</td>\n",
              "    </tr>\n",
              "    <tr>\n",
              "      <th>4</th>\n",
              "      <td>1</td>\n",
              "      <td>1</td>\n",
              "      <td>SRH</td>\n",
              "      <td>RCB</td>\n",
              "      <td>1</td>\n",
              "      <td>5</td>\n",
              "      <td>DA Warner</td>\n",
              "      <td>S Dhawan</td>\n",
              "      <td>TS Mills</td>\n",
              "      <td>0</td>\n",
              "      <td>2</td>\n",
              "      <td>0</td>\n",
              "      <td>0</td>\n",
              "      <td>0</td>\n",
              "      <td>0</td>\n",
              "      <td>0</td>\n",
              "      <td>2</td>\n",
              "      <td>2</td>\n",
              "      <td>None</td>\n",
              "      <td>None</td>\n",
              "      <td>None</td>\n",
              "      <td>1</td>\n",
              "      <td>2017</td>\n",
              "      <td>Hyderabad</td>\n",
              "      <td>2017-04-05</td>\n",
              "      <td>SRH</td>\n",
              "      <td>RCB</td>\n",
              "      <td>RCB</td>\n",
              "      <td>field</td>\n",
              "      <td>normal</td>\n",
              "      <td>0</td>\n",
              "      <td>SRH</td>\n",
              "      <td>35</td>\n",
              "      <td>0</td>\n",
              "      <td>Yuvraj Singh</td>\n",
              "      <td>Rajiv Gandhi International Stadium, Uppal</td>\n",
              "      <td>AY Dandekar</td>\n",
              "      <td>NJ Llong</td>\n",
              "      <td>None</td>\n",
              "    </tr>\n",
              "  </tbody>\n",
              "</table>\n",
              "</div>"
            ],
            "text/plain": [
              "   match_id  inning batting_team  ...      umpire1   umpire2  umpire3\n",
              "0         1       1          SRH  ...  AY Dandekar  NJ Llong     None\n",
              "1         1       1          SRH  ...  AY Dandekar  NJ Llong     None\n",
              "2         1       1          SRH  ...  AY Dandekar  NJ Llong     None\n",
              "3         1       1          SRH  ...  AY Dandekar  NJ Llong     None\n",
              "4         1       1          SRH  ...  AY Dandekar  NJ Llong     None\n",
              "\n",
              "[5 rows x 39 columns]"
            ]
          },
          "metadata": {
            "tags": []
          },
          "execution_count": 175
        }
      ]
    },
    {
      "cell_type": "code",
      "metadata": {
        "colab_type": "code",
        "id": "HHAInc4PE43N",
        "colab": {}
      },
      "source": [
        "# Arrow to Ordered dictionary\n",
        "\n",
        "ipl_dict = ipl_arrow.to_pydict()"
      ],
      "execution_count": 0,
      "outputs": []
    },
    {
      "cell_type": "code",
      "metadata": {
        "colab_type": "code",
        "id": "8ZCBbBGqDKNa",
        "outputId": "4aaf02c0-fa17-4eca-c8b9-6599bdcace5a",
        "colab": {
          "base_uri": "https://localhost:8080/",
          "height": 34
        }
      },
      "source": [
        "# Type of ipl_dict\n",
        "\n",
        "type(ipl_dict)"
      ],
      "execution_count": 177,
      "outputs": [
        {
          "output_type": "execute_result",
          "data": {
            "text/plain": [
              "collections.OrderedDict"
            ]
          },
          "metadata": {
            "tags": []
          },
          "execution_count": 177
        }
      ]
    },
    {
      "cell_type": "code",
      "metadata": {
        "colab_type": "code",
        "id": "kXhJjtypFAQy",
        "outputId": "9a12a1b5-9416-4247-eb92-300f983488ed",
        "colab": {
          "base_uri": "https://localhost:8080/",
          "height": 54
        }
      },
      "source": [
        "# ipl_dict columns\n",
        "\n",
        "ipl_dict.keys()"
      ],
      "execution_count": 178,
      "outputs": [
        {
          "output_type": "execute_result",
          "data": {
            "text/plain": [
              "odict_keys(['match_id', 'inning', 'batting_team', 'bowling_team', 'over', 'ball', 'batsman', 'non_striker', 'bowler', 'is_super_over', 'wide_runs', 'bye_runs', 'legbye_runs', 'noball_runs', 'penalty_runs', 'batsman_runs', 'extra_runs', 'total_runs', 'player_dismissed', 'dismissal_kind', 'fielder', 'id', 'season', 'city', 'date', 'team1', 'team2', 'toss_winner', 'toss_decision', 'result', 'dl_applied', 'winner', 'win_by_runs', 'win_by_wickets', 'player_of_match', 'venue', 'umpire1', 'umpire2', 'umpire3'])"
            ]
          },
          "metadata": {
            "tags": []
          },
          "execution_count": 178
        }
      ]
    },
    {
      "cell_type": "code",
      "metadata": {
        "colab_type": "code",
        "id": "7GZ0VgkZJAHP",
        "outputId": "06be6cf9-72cc-4b8d-a8a3-fa2df0b5a1a4",
        "colab": {
          "base_uri": "https://localhost:8080/",
          "height": 34
        }
      },
      "source": [
        "# Size of ipl_dict\n",
        "\n",
        "sys.getsizeof(ipl_dict)"
      ],
      "execution_count": 179,
      "outputs": [
        {
          "output_type": "execute_result",
          "data": {
            "text/plain": [
              "3008"
            ]
          },
          "metadata": {
            "tags": []
          },
          "execution_count": 179
        }
      ]
    },
    {
      "cell_type": "code",
      "metadata": {
        "id": "62ZsbXbGaH7c",
        "colab_type": "code",
        "colab": {
          "base_uri": "https://localhost:8080/",
          "height": 34
        },
        "outputId": "f1950e25-2e3a-4dd6-f5a0-324214888f73"
      },
      "source": [
        "# Top 5 umpire3 value\n",
        "\n",
        "ipl_dict['umpire3'][0:5]"
      ],
      "execution_count": 180,
      "outputs": [
        {
          "output_type": "execute_result",
          "data": {
            "text/plain": [
              "['', '', '', '', '']"
            ]
          },
          "metadata": {
            "tags": []
          },
          "execution_count": 180
        }
      ]
    },
    {
      "cell_type": "code",
      "metadata": {
        "colab_type": "code",
        "id": "KlEd0qXvPGWt",
        "colab": {}
      },
      "source": [
        "# parquet file\n",
        "\n",
        "pq.write_table(ipl_arrow2, f'{file_dir}deliveries_and_matches.parquet')"
      ],
      "execution_count": 0,
      "outputs": []
    },
    {
      "cell_type": "markdown",
      "metadata": {
        "id": "oBzOlv5FsS_o",
        "colab_type": "text"
      },
      "source": [
        "### Parquet file\n",
        "\n",
        "Since it is binary format, it occupies less memory in disk. [Refer](https://parquet.apache.org/documentation/latest/)"
      ]
    },
    {
      "cell_type": "code",
      "metadata": {
        "colab_type": "code",
        "id": "cY0b8dIqQdpY",
        "outputId": "c81f3146-837f-4036-e9ca-c2fd596c923f",
        "colab": {
          "base_uri": "https://localhost:8080/",
          "height": 51
        }
      },
      "source": [
        "# Parquet file\n",
        "\n",
        "print(f\"parquet file size in Bytes = {os.path.getsize(f'{file_dir}deliveries_and_matches.parquet')}\")\n",
        "print(f\"parquet file size in KB = {os.path.getsize(f'{file_dir}deliveries_and_matches.parquet')/1024:.2f}\")"
      ],
      "execution_count": 182,
      "outputs": [
        {
          "output_type": "stream",
          "text": [
            "parquet file size in Bytes = 816580\n",
            "parquet file size in KB = 797.44\n"
          ],
          "name": "stdout"
        }
      ]
    },
    {
      "cell_type": "code",
      "metadata": {
        "colab_type": "code",
        "id": "aVoWvx8eQdmu",
        "outputId": "197dfde0-a187-4149-af4d-fbd319adbf40",
        "colab": {
          "base_uri": "https://localhost:8080/",
          "height": 68
        }
      },
      "source": [
        "# Read parquet file in pyarrow\n",
        "\n",
        "bf_time = datetime.now()\n",
        "ipl_parquet_arrow = pq.read_table(f'{file_dir}deliveries_and_matches.parquet')\n",
        "at_time = datetime.now()\n",
        "ex_time = execution_time(bf_time, at_time)"
      ],
      "execution_count": 183,
      "outputs": [
        {
          "output_type": "stream",
          "text": [
            "Before Execution - 2020-04-25 07:51:41.692773\n",
            "After Execution  - 2020-04-25 07:51:41.858174\n",
            "Execution time   - 0:00:00.165401\n"
          ],
          "name": "stdout"
        }
      ]
    },
    {
      "cell_type": "code",
      "metadata": {
        "colab_type": "code",
        "id": "qIwLkhtrQdi6",
        "outputId": "c044c49d-8ab5-4510-b436-b8929bce8944",
        "colab": {
          "base_uri": "https://localhost:8080/",
          "height": 34
        }
      },
      "source": [
        "# Null count of umpire3 from parquet file\n",
        "\n",
        "ipl_parquet_arrow.column('umpire3').null_count"
      ],
      "execution_count": 184,
      "outputs": [
        {
          "output_type": "execute_result",
          "data": {
            "text/plain": [
              "150712"
            ]
          },
          "metadata": {
            "tags": []
          },
          "execution_count": 184
        }
      ]
    },
    {
      "cell_type": "code",
      "metadata": {
        "colab_type": "code",
        "id": "bukGLLCoTIJZ",
        "colab": {}
      },
      "source": [
        "# Arrow to Ordered dictionary\n",
        "\n",
        "ipl_dict2 = ipl_arrow2.to_pydict()"
      ],
      "execution_count": 0,
      "outputs": []
    },
    {
      "cell_type": "code",
      "metadata": {
        "colab_type": "code",
        "id": "DRcNJkoEVb8V",
        "colab": {
          "base_uri": "https://localhost:8080/",
          "height": 34
        },
        "outputId": "2afee29d-4ee0-4643-fd61-44f2079d5ad5"
      },
      "source": [
        "# Top 5 umpire3 value\n",
        "\n",
        "ipl_dict2['umpire3'][0:5]"
      ],
      "execution_count": 186,
      "outputs": [
        {
          "output_type": "execute_result",
          "data": {
            "text/plain": [
              "[None, None, None, None, None]"
            ]
          },
          "metadata": {
            "tags": []
          },
          "execution_count": 186
        }
      ]
    },
    {
      "cell_type": "code",
      "metadata": {
        "colab_type": "code",
        "id": "BElfblbCVb5p",
        "colab": {
          "base_uri": "https://localhost:8080/",
          "height": 68
        },
        "outputId": "c71d1303-f69f-41d0-89d1-ee75753c9ab8"
      },
      "source": [
        "# Read parquet file in pandas\n",
        "\n",
        "bf_time = datetime.now()\n",
        "ipl_parquet_df = pd.read_parquet(f'{file_dir}deliveries_and_matches.parquet')\n",
        "at_time = datetime.now()\n",
        "ex_time = execution_time(bf_time, at_time)\n"
      ],
      "execution_count": 187,
      "outputs": [
        {
          "output_type": "stream",
          "text": [
            "Before Execution - 2020-04-25 07:51:46.491392\n",
            "After Execution  - 2020-04-25 07:51:46.773959\n",
            "Execution time   - 0:00:00.282567\n"
          ],
          "name": "stdout"
        }
      ]
    },
    {
      "cell_type": "code",
      "metadata": {
        "colab_type": "code",
        "id": "rfWZSmyRVb2c",
        "colab": {
          "base_uri": "https://localhost:8080/",
          "height": 799
        },
        "outputId": "d9450a22-4d53-4c6e-9659-b3579d63663e"
      },
      "source": [
        "# Info of ipl_parquet_df\n",
        "\n",
        "ipl_parquet_df.info(memory_usage='deep')"
      ],
      "execution_count": 188,
      "outputs": [
        {
          "output_type": "stream",
          "text": [
            "<class 'pandas.core.frame.DataFrame'>\n",
            "RangeIndex: 179078 entries, 0 to 179077\n",
            "Data columns (total 39 columns):\n",
            " #   Column            Non-Null Count   Dtype         \n",
            "---  ------            --------------   -----         \n",
            " 0   match_id          179078 non-null  int64         \n",
            " 1   inning            179078 non-null  int64         \n",
            " 2   batting_team      179078 non-null  object        \n",
            " 3   bowling_team      179078 non-null  object        \n",
            " 4   over              179078 non-null  int64         \n",
            " 5   ball              179078 non-null  int64         \n",
            " 6   batsman           179078 non-null  object        \n",
            " 7   non_striker       179078 non-null  object        \n",
            " 8   bowler            179078 non-null  object        \n",
            " 9   is_super_over     179078 non-null  int64         \n",
            " 10  wide_runs         179078 non-null  int64         \n",
            " 11  bye_runs          179078 non-null  int64         \n",
            " 12  legbye_runs       179078 non-null  int64         \n",
            " 13  noball_runs       179078 non-null  int64         \n",
            " 14  penalty_runs      179078 non-null  int64         \n",
            " 15  batsman_runs      179078 non-null  int64         \n",
            " 16  extra_runs        179078 non-null  int64         \n",
            " 17  total_runs        179078 non-null  int64         \n",
            " 18  player_dismissed  8834 non-null    object        \n",
            " 19  dismissal_kind    8834 non-null    object        \n",
            " 20  fielder           6448 non-null    object        \n",
            " 21  id                179078 non-null  int64         \n",
            " 22  season            179078 non-null  int64         \n",
            " 23  city              177378 non-null  object        \n",
            " 24  date              179078 non-null  datetime64[ns]\n",
            " 25  team1             179078 non-null  object        \n",
            " 26  team2             179078 non-null  object        \n",
            " 27  toss_winner       179078 non-null  object        \n",
            " 28  toss_decision     179078 non-null  object        \n",
            " 29  result            179078 non-null  object        \n",
            " 30  dl_applied        179078 non-null  int64         \n",
            " 31  winner            178706 non-null  object        \n",
            " 32  win_by_runs       179078 non-null  int64         \n",
            " 33  win_by_wickets    179078 non-null  int64         \n",
            " 34  player_of_match   178706 non-null  object        \n",
            " 35  venue             179078 non-null  object        \n",
            " 36  umpire1           178578 non-null  object        \n",
            " 37  umpire2           178578 non-null  object        \n",
            " 38  umpire3           28366 non-null   object        \n",
            "dtypes: datetime64[ns](1), int64(18), object(20)\n",
            "memory usage: 220.3 MB\n"
          ],
          "name": "stdout"
        }
      ]
    },
    {
      "cell_type": "code",
      "metadata": {
        "colab_type": "code",
        "id": "8Q5MGAlrVbvZ",
        "colab": {
          "base_uri": "https://localhost:8080/",
          "height": 564
        },
        "outputId": "f3551dbc-7011-4a7b-da1e-6a589f327ab7"
      },
      "source": [
        "# Glimpse of ipl_parquet_df\n",
        "\n",
        "ipl_parquet_df.head()"
      ],
      "execution_count": 189,
      "outputs": [
        {
          "output_type": "execute_result",
          "data": {
            "text/html": [
              "<div>\n",
              "<style scoped>\n",
              "    .dataframe tbody tr th:only-of-type {\n",
              "        vertical-align: middle;\n",
              "    }\n",
              "\n",
              "    .dataframe tbody tr th {\n",
              "        vertical-align: top;\n",
              "    }\n",
              "\n",
              "    .dataframe thead th {\n",
              "        text-align: right;\n",
              "    }\n",
              "</style>\n",
              "<table border=\"1\" class=\"dataframe\">\n",
              "  <thead>\n",
              "    <tr style=\"text-align: right;\">\n",
              "      <th></th>\n",
              "      <th>match_id</th>\n",
              "      <th>inning</th>\n",
              "      <th>batting_team</th>\n",
              "      <th>bowling_team</th>\n",
              "      <th>over</th>\n",
              "      <th>ball</th>\n",
              "      <th>batsman</th>\n",
              "      <th>non_striker</th>\n",
              "      <th>bowler</th>\n",
              "      <th>is_super_over</th>\n",
              "      <th>wide_runs</th>\n",
              "      <th>bye_runs</th>\n",
              "      <th>legbye_runs</th>\n",
              "      <th>noball_runs</th>\n",
              "      <th>penalty_runs</th>\n",
              "      <th>batsman_runs</th>\n",
              "      <th>extra_runs</th>\n",
              "      <th>total_runs</th>\n",
              "      <th>player_dismissed</th>\n",
              "      <th>dismissal_kind</th>\n",
              "      <th>fielder</th>\n",
              "      <th>id</th>\n",
              "      <th>season</th>\n",
              "      <th>city</th>\n",
              "      <th>date</th>\n",
              "      <th>team1</th>\n",
              "      <th>team2</th>\n",
              "      <th>toss_winner</th>\n",
              "      <th>toss_decision</th>\n",
              "      <th>result</th>\n",
              "      <th>dl_applied</th>\n",
              "      <th>winner</th>\n",
              "      <th>win_by_runs</th>\n",
              "      <th>win_by_wickets</th>\n",
              "      <th>player_of_match</th>\n",
              "      <th>venue</th>\n",
              "      <th>umpire1</th>\n",
              "      <th>umpire2</th>\n",
              "      <th>umpire3</th>\n",
              "    </tr>\n",
              "  </thead>\n",
              "  <tbody>\n",
              "    <tr>\n",
              "      <th>0</th>\n",
              "      <td>1</td>\n",
              "      <td>1</td>\n",
              "      <td>SRH</td>\n",
              "      <td>RCB</td>\n",
              "      <td>1</td>\n",
              "      <td>1</td>\n",
              "      <td>DA Warner</td>\n",
              "      <td>S Dhawan</td>\n",
              "      <td>TS Mills</td>\n",
              "      <td>0</td>\n",
              "      <td>0</td>\n",
              "      <td>0</td>\n",
              "      <td>0</td>\n",
              "      <td>0</td>\n",
              "      <td>0</td>\n",
              "      <td>0</td>\n",
              "      <td>0</td>\n",
              "      <td>0</td>\n",
              "      <td>None</td>\n",
              "      <td>None</td>\n",
              "      <td>None</td>\n",
              "      <td>1</td>\n",
              "      <td>2017</td>\n",
              "      <td>Hyderabad</td>\n",
              "      <td>2017-04-05</td>\n",
              "      <td>SRH</td>\n",
              "      <td>RCB</td>\n",
              "      <td>RCB</td>\n",
              "      <td>field</td>\n",
              "      <td>normal</td>\n",
              "      <td>0</td>\n",
              "      <td>SRH</td>\n",
              "      <td>35</td>\n",
              "      <td>0</td>\n",
              "      <td>Yuvraj Singh</td>\n",
              "      <td>Rajiv Gandhi International Stadium, Uppal</td>\n",
              "      <td>AY Dandekar</td>\n",
              "      <td>NJ Llong</td>\n",
              "      <td>None</td>\n",
              "    </tr>\n",
              "    <tr>\n",
              "      <th>1</th>\n",
              "      <td>1</td>\n",
              "      <td>1</td>\n",
              "      <td>SRH</td>\n",
              "      <td>RCB</td>\n",
              "      <td>1</td>\n",
              "      <td>2</td>\n",
              "      <td>DA Warner</td>\n",
              "      <td>S Dhawan</td>\n",
              "      <td>TS Mills</td>\n",
              "      <td>0</td>\n",
              "      <td>0</td>\n",
              "      <td>0</td>\n",
              "      <td>0</td>\n",
              "      <td>0</td>\n",
              "      <td>0</td>\n",
              "      <td>0</td>\n",
              "      <td>0</td>\n",
              "      <td>0</td>\n",
              "      <td>None</td>\n",
              "      <td>None</td>\n",
              "      <td>None</td>\n",
              "      <td>1</td>\n",
              "      <td>2017</td>\n",
              "      <td>Hyderabad</td>\n",
              "      <td>2017-04-05</td>\n",
              "      <td>SRH</td>\n",
              "      <td>RCB</td>\n",
              "      <td>RCB</td>\n",
              "      <td>field</td>\n",
              "      <td>normal</td>\n",
              "      <td>0</td>\n",
              "      <td>SRH</td>\n",
              "      <td>35</td>\n",
              "      <td>0</td>\n",
              "      <td>Yuvraj Singh</td>\n",
              "      <td>Rajiv Gandhi International Stadium, Uppal</td>\n",
              "      <td>AY Dandekar</td>\n",
              "      <td>NJ Llong</td>\n",
              "      <td>None</td>\n",
              "    </tr>\n",
              "    <tr>\n",
              "      <th>2</th>\n",
              "      <td>1</td>\n",
              "      <td>1</td>\n",
              "      <td>SRH</td>\n",
              "      <td>RCB</td>\n",
              "      <td>1</td>\n",
              "      <td>3</td>\n",
              "      <td>DA Warner</td>\n",
              "      <td>S Dhawan</td>\n",
              "      <td>TS Mills</td>\n",
              "      <td>0</td>\n",
              "      <td>0</td>\n",
              "      <td>0</td>\n",
              "      <td>0</td>\n",
              "      <td>0</td>\n",
              "      <td>0</td>\n",
              "      <td>4</td>\n",
              "      <td>0</td>\n",
              "      <td>4</td>\n",
              "      <td>None</td>\n",
              "      <td>None</td>\n",
              "      <td>None</td>\n",
              "      <td>1</td>\n",
              "      <td>2017</td>\n",
              "      <td>Hyderabad</td>\n",
              "      <td>2017-04-05</td>\n",
              "      <td>SRH</td>\n",
              "      <td>RCB</td>\n",
              "      <td>RCB</td>\n",
              "      <td>field</td>\n",
              "      <td>normal</td>\n",
              "      <td>0</td>\n",
              "      <td>SRH</td>\n",
              "      <td>35</td>\n",
              "      <td>0</td>\n",
              "      <td>Yuvraj Singh</td>\n",
              "      <td>Rajiv Gandhi International Stadium, Uppal</td>\n",
              "      <td>AY Dandekar</td>\n",
              "      <td>NJ Llong</td>\n",
              "      <td>None</td>\n",
              "    </tr>\n",
              "    <tr>\n",
              "      <th>3</th>\n",
              "      <td>1</td>\n",
              "      <td>1</td>\n",
              "      <td>SRH</td>\n",
              "      <td>RCB</td>\n",
              "      <td>1</td>\n",
              "      <td>4</td>\n",
              "      <td>DA Warner</td>\n",
              "      <td>S Dhawan</td>\n",
              "      <td>TS Mills</td>\n",
              "      <td>0</td>\n",
              "      <td>0</td>\n",
              "      <td>0</td>\n",
              "      <td>0</td>\n",
              "      <td>0</td>\n",
              "      <td>0</td>\n",
              "      <td>0</td>\n",
              "      <td>0</td>\n",
              "      <td>0</td>\n",
              "      <td>None</td>\n",
              "      <td>None</td>\n",
              "      <td>None</td>\n",
              "      <td>1</td>\n",
              "      <td>2017</td>\n",
              "      <td>Hyderabad</td>\n",
              "      <td>2017-04-05</td>\n",
              "      <td>SRH</td>\n",
              "      <td>RCB</td>\n",
              "      <td>RCB</td>\n",
              "      <td>field</td>\n",
              "      <td>normal</td>\n",
              "      <td>0</td>\n",
              "      <td>SRH</td>\n",
              "      <td>35</td>\n",
              "      <td>0</td>\n",
              "      <td>Yuvraj Singh</td>\n",
              "      <td>Rajiv Gandhi International Stadium, Uppal</td>\n",
              "      <td>AY Dandekar</td>\n",
              "      <td>NJ Llong</td>\n",
              "      <td>None</td>\n",
              "    </tr>\n",
              "    <tr>\n",
              "      <th>4</th>\n",
              "      <td>1</td>\n",
              "      <td>1</td>\n",
              "      <td>SRH</td>\n",
              "      <td>RCB</td>\n",
              "      <td>1</td>\n",
              "      <td>5</td>\n",
              "      <td>DA Warner</td>\n",
              "      <td>S Dhawan</td>\n",
              "      <td>TS Mills</td>\n",
              "      <td>0</td>\n",
              "      <td>2</td>\n",
              "      <td>0</td>\n",
              "      <td>0</td>\n",
              "      <td>0</td>\n",
              "      <td>0</td>\n",
              "      <td>0</td>\n",
              "      <td>2</td>\n",
              "      <td>2</td>\n",
              "      <td>None</td>\n",
              "      <td>None</td>\n",
              "      <td>None</td>\n",
              "      <td>1</td>\n",
              "      <td>2017</td>\n",
              "      <td>Hyderabad</td>\n",
              "      <td>2017-04-05</td>\n",
              "      <td>SRH</td>\n",
              "      <td>RCB</td>\n",
              "      <td>RCB</td>\n",
              "      <td>field</td>\n",
              "      <td>normal</td>\n",
              "      <td>0</td>\n",
              "      <td>SRH</td>\n",
              "      <td>35</td>\n",
              "      <td>0</td>\n",
              "      <td>Yuvraj Singh</td>\n",
              "      <td>Rajiv Gandhi International Stadium, Uppal</td>\n",
              "      <td>AY Dandekar</td>\n",
              "      <td>NJ Llong</td>\n",
              "      <td>None</td>\n",
              "    </tr>\n",
              "  </tbody>\n",
              "</table>\n",
              "</div>"
            ],
            "text/plain": [
              "   match_id  inning batting_team  ...      umpire1   umpire2  umpire3\n",
              "0         1       1          SRH  ...  AY Dandekar  NJ Llong     None\n",
              "1         1       1          SRH  ...  AY Dandekar  NJ Llong     None\n",
              "2         1       1          SRH  ...  AY Dandekar  NJ Llong     None\n",
              "3         1       1          SRH  ...  AY Dandekar  NJ Llong     None\n",
              "4         1       1          SRH  ...  AY Dandekar  NJ Llong     None\n",
              "\n",
              "[5 rows x 39 columns]"
            ]
          },
          "metadata": {
            "tags": []
          },
          "execution_count": 189
        }
      ]
    },
    {
      "cell_type": "code",
      "metadata": {
        "id": "5NuD8IUv946f",
        "colab_type": "code",
        "colab": {}
      },
      "source": [
        "# arrow file\n",
        "\n",
        "pq.write_table(ipl_arrow2, f'{file_dir}deliveries_and_matches.arrow')"
      ],
      "execution_count": 0,
      "outputs": []
    },
    {
      "cell_type": "code",
      "metadata": {
        "id": "5ewvep0t_ebT",
        "colab_type": "code",
        "colab": {
          "base_uri": "https://localhost:8080/",
          "height": 68
        },
        "outputId": "7c800ce7-39f5-4115-e804-8fd8482a6d91"
      },
      "source": [
        "# Read arrow file in pyarrow\n",
        "\n",
        "bf_time = datetime.now()\n",
        "ipl_arrow_arrow = pq.read_table(f'{file_dir}deliveries_and_matches.arrow')\n",
        "at_time = datetime.now()\n",
        "ex_time = execution_time(bf_time, at_time)"
      ],
      "execution_count": 191,
      "outputs": [
        {
          "output_type": "stream",
          "text": [
            "Before Execution - 2020-04-25 07:51:57.191805\n",
            "After Execution  - 2020-04-25 07:51:57.287284\n",
            "Execution time   - 0:00:00.095479\n"
          ],
          "name": "stdout"
        }
      ]
    },
    {
      "cell_type": "code",
      "metadata": {
        "id": "gp44zCvX_psS",
        "colab_type": "code",
        "colab": {
          "base_uri": "https://localhost:8080/",
          "height": 68
        },
        "outputId": "6623d60a-31a0-46fd-aa17-4bb4cb1d6460"
      },
      "source": [
        "# Read arrow file in pandas\n",
        "\n",
        "bf_time = datetime.now()\n",
        "ipl_arrow_df = pd.read_parquet(f'{file_dir}deliveries_and_matches.arrow')\n",
        "at_time = datetime.now()\n",
        "ex_time = execution_time(bf_time, at_time)\n"
      ],
      "execution_count": 192,
      "outputs": [
        {
          "output_type": "stream",
          "text": [
            "Before Execution - 2020-04-25 07:51:57.297587\n",
            "After Execution  - 2020-04-25 07:51:57.548787\n",
            "Execution time   - 0:00:00.251200\n"
          ],
          "name": "stdout"
        }
      ]
    },
    {
      "cell_type": "markdown",
      "metadata": {
        "id": "wLG8M6ZP-HMN",
        "colab_type": "text"
      },
      "source": [
        "### Arrow file\n",
        "\n",
        "Since it is also binary format, it occupies less memory in disk. \n",
        "\n",
        "Difference between arrow file and parquet file.\n",
        "\n",
        "In short, Parquet files are designed for disk storage, while Arrow is designed for in-memory use, but you can put it on disk and then memory-map later. Arrow and Parquet are intended to be compatible with each other and used together in applications.\n",
        "\n",
        "If your disk storage or network is slow, Parquet may be a better choice.\n",
        "\n",
        "[Refer](https://arrow.apache.org/faq/)"
      ]
    },
    {
      "cell_type": "markdown",
      "metadata": {
        "id": "dWm8wSTMuPc4",
        "colab_type": "text"
      },
      "source": [
        "### Apache Arrow projects\n",
        "\n",
        "Few of them,\n",
        "\n",
        "- **Petastorm** enables single machine or distributed training and evaluation of deep learning models directly, Supports popular Python-based machine learning (ML) frameworks such as Tensorflow, Pytorch, and PySpark\n",
        "\n",
        "- **Dremio** reads data from any source (RDBMS, HDFS, S3, NoSQL) into Arrow buffers, and provides fast SQL access via ODBC, JDBC, and REST for BI, Python, R, and more (all backed by Apache Arrow).\n",
        "\n",
        "- **Perspective** is a streaming data visualization engine in JavaScript for building real-time & user-configurable analytics entirely in the browser.\n",
        "\n",
        "[Refer](https://arrow.apache.org/powered_by/)"
      ]
    },
    {
      "cell_type": "markdown",
      "metadata": {
        "id": "ng4ue3H8wqAr",
        "colab_type": "text"
      },
      "source": [
        "### Plasma In-Memory object store\n",
        "\n",
        "Plasma holds immutable objects in shared memory so that they can be accessed efficiently by many clients across process boundaries.\n",
        "\n",
        "\n",
        "**As present, Plasma is only supported for use on Linux and macOS.**\n",
        "\n",
        "[Reference1](https://arrow.apache.org/blog/2017/08/08/plasma-in-memory-object-store/)\n",
        "\n",
        "[Reference2](https://arrow.apache.org/docs/python/plasma.html)\n",
        "\n"
      ]
    },
    {
      "cell_type": "markdown",
      "metadata": {
        "id": "SeWwt_-oAjdY",
        "colab_type": "text"
      },
      "source": [
        "## Conclusion\n",
        "\n",
        "Apache arrow supports columnar in-memory formats and zero-copy shared memory. "
      ]
    },
    {
      "cell_type": "code",
      "metadata": {
        "id": "dJbccmKQuKUm",
        "colab_type": "code",
        "colab": {
          "base_uri": "https://localhost:8080/",
          "height": 68
        },
        "outputId": "9cbf8d89-c886-48c4-9787-4f9860847a8d"
      },
      "source": [
        "%time ipl_df = pd.read_csv(file_loc)"
      ],
      "execution_count": 193,
      "outputs": [
        {
          "output_type": "stream",
          "text": [
            "CPU times: user 583 ms, sys: 25.8 ms, total: 608 ms\n",
            "Wall time: 643 ms\n"
          ],
          "name": "stdout"
        },
        {
          "output_type": "stream",
          "text": [
            "<string>:2: DtypeWarning: Columns (38) have mixed types.Specify dtype option on import or set low_memory=False.\n"
          ],
          "name": "stderr"
        }
      ]
    },
    {
      "cell_type": "code",
      "metadata": {
        "id": "O3YpL7Vz7NN7",
        "colab_type": "code",
        "colab": {
          "base_uri": "https://localhost:8080/",
          "height": 51
        },
        "outputId": "c9bfc105-f36c-46f8-e6fe-6ed1d295fbed"
      },
      "source": [
        "%time ipl_arrow = csv.read_csv(file_loc)"
      ],
      "execution_count": 194,
      "outputs": [
        {
          "output_type": "stream",
          "text": [
            "CPU times: user 412 ms, sys: 154 ms, total: 566 ms\n",
            "Wall time: 334 ms\n"
          ],
          "name": "stdout"
        }
      ]
    },
    {
      "cell_type": "code",
      "metadata": {
        "id": "GPkV6TsMLU2k",
        "colab_type": "code",
        "colab": {
          "base_uri": "https://localhost:8080/",
          "height": 558
        },
        "outputId": "1cd49471-6dd0-4296-852b-474a47b6c7ba"
      },
      "source": [
        "import matplotlib.image as mpimg \n",
        "import matplotlib.pyplot as plt \n",
        "\n",
        "img = mpimg.imread(f'{file_dir}Bigger.png')\n",
        "plt.figure(figsize=(16,9))\n",
        "plt.imshow(img)"
      ],
      "execution_count": 195,
      "outputs": [
        {
          "output_type": "execute_result",
          "data": {
            "text/plain": [
              "<matplotlib.image.AxesImage at 0x7fe3f0a522b0>"
            ]
          },
          "metadata": {
            "tags": []
          },
          "execution_count": 195
        },
        {
          "output_type": "display_data",
          "data": {
            "image/png": "[encoded data removed]",
            "text/plain": [
              "<Figure size 1152x648 with 1 Axes>"
            ]
          },
          "metadata": {
            "tags": [],
            "needs_background": "light"
          }
        }
      ]
    }
  ]
}